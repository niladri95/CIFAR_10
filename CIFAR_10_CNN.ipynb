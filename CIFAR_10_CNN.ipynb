{
  "nbformat": 4,
  "nbformat_minor": 0,
  "metadata": {
    "kernelspec": {
      "display_name": "Python 3",
      "language": "python",
      "name": "python3"
    },
    "language_info": {
      "codemirror_mode": {
        "name": "ipython",
        "version": 3
      },
      "file_extension": ".py",
      "mimetype": "text/x-python",
      "name": "python",
      "nbconvert_exporter": "python",
      "pygments_lexer": "ipython3",
      "version": "3.7.3"
    },
    "colab": {
      "name": "CIFAR 10 CNN.ipynb",
      "provenance": [],
      "collapsed_sections": []
    },
    "accelerator": "GPU"
  },
  "cells": [
    {
      "cell_type": "code",
      "metadata": {
        "id": "6PG0-Vmwo8HO",
        "colab_type": "code",
        "colab": {}
      },
      "source": [
        "import numpy as np\n",
        "import pandas as pd\n",
        "import tensorflow"
      ],
      "execution_count": 1,
      "outputs": []
    },
    {
      "cell_type": "code",
      "metadata": {
        "id": "CvzYZMGSo8Hr",
        "colab_type": "code",
        "colab": {}
      },
      "source": [
        "from tensorflow.keras.datasets import cifar10\n",
        "(x_train,y_train),(x_test,y_test)=cifar10.load_data()"
      ],
      "execution_count": 2,
      "outputs": []
    },
    {
      "cell_type": "code",
      "metadata": {
        "id": "4P9Icw8Qo8IS",
        "colab_type": "code",
        "colab": {}
      },
      "source": [
        "import matplotlib.pyplot as plt"
      ],
      "execution_count": 3,
      "outputs": []
    },
    {
      "cell_type": "code",
      "metadata": {
        "id": "fluomH0bo8It",
        "colab_type": "code",
        "colab": {
          "base_uri": "https://localhost:8080/",
          "height": 34
        },
        "outputId": "205762a2-bf2f-46b8-ee20-bcb44e619b46"
      },
      "source": [
        "x_train.shape"
      ],
      "execution_count": 4,
      "outputs": [
        {
          "output_type": "execute_result",
          "data": {
            "text/plain": [
              "(50000, 32, 32, 3)"
            ]
          },
          "metadata": {
            "tags": []
          },
          "execution_count": 4
        }
      ]
    },
    {
      "cell_type": "code",
      "metadata": {
        "id": "LGrUEptlo8JP",
        "colab_type": "code",
        "colab": {
          "base_uri": "https://localhost:8080/",
          "height": 34
        },
        "outputId": "f27df999-ec35-4351-b0b9-edd9b87e930f"
      },
      "source": [
        "x_train[0].shape"
      ],
      "execution_count": 5,
      "outputs": [
        {
          "output_type": "execute_result",
          "data": {
            "text/plain": [
              "(32, 32, 3)"
            ]
          },
          "metadata": {
            "tags": []
          },
          "execution_count": 5
        }
      ]
    },
    {
      "cell_type": "code",
      "metadata": {
        "id": "mqVVWkvco8JW",
        "colab_type": "code",
        "colab": {
          "base_uri": "https://localhost:8080/",
          "height": 283
        },
        "outputId": "b62befc0-fdde-41c3-94d6-125b85ce06bf"
      },
      "source": [
        "plt.imshow(x_train[0])  #frog"
      ],
      "execution_count": 6,
      "outputs": [
        {
          "output_type": "execute_result",
          "data": {
            "text/plain": [
              "<matplotlib.image.AxesImage at 0x7f720ee90d68>"
            ]
          },
          "metadata": {
            "tags": []
          },
          "execution_count": 6
        },
        {
          "output_type": "display_data",
          "data": {
            "image/png": "[encoded data removed]",
            "text/plain": [
              "<Figure size 432x288 with 1 Axes>"
            ]
          },
          "metadata": {
            "tags": [],
            "needs_background": "light"
          }
        }
      ]
    },
    {
      "cell_type": "code",
      "metadata": {
        "id": "DkSZKar_o8Jh",
        "colab_type": "code",
        "colab": {
          "base_uri": "https://localhost:8080/",
          "height": 283
        },
        "outputId": "f48fc3f2-f59f-43af-9703-f89af4ea8499"
      },
      "source": [
        "plt.imshow(x_train[7])\n",
        "print(y_train[7])#horse"
      ],
      "execution_count": 7,
      "outputs": [
        {
          "output_type": "stream",
          "text": [
            "[7]\n"
          ],
          "name": "stdout"
        },
        {
          "output_type": "display_data",
          "data": {
            "image/png": "[encoded data removed]",
            "text/plain": [
              "<Figure size 432x288 with 1 Axes>"
            ]
          },
          "metadata": {
            "tags": [],
            "needs_background": "light"
          }
        }
      ]
    },
    {
      "cell_type": "code",
      "metadata": {
        "id": "BvhVWxBSo8KM",
        "colab_type": "code",
        "colab": {
          "base_uri": "https://localhost:8080/",
          "height": 34
        },
        "outputId": "e567a017-f784-40d8-a49a-4740a165a571"
      },
      "source": [
        "y_train[0]"
      ],
      "execution_count": 8,
      "outputs": [
        {
          "output_type": "execute_result",
          "data": {
            "text/plain": [
              "array([6], dtype=uint8)"
            ]
          },
          "metadata": {
            "tags": []
          },
          "execution_count": 8
        }
      ]
    },
    {
      "cell_type": "code",
      "metadata": {
        "id": "xX9tcSdAo8KS",
        "colab_type": "code",
        "colab": {}
      },
      "source": [
        "#airplane :0\n",
        "#automobile:1\n",
        "#bird:2\n",
        "#cat:3\n",
        "#deer:4\n",
        "#dog:5\n",
        "#frog:6\n",
        "#horse:7\n",
        "#ship:8\n",
        "#truck:9\n",
        "    "
      ],
      "execution_count": 9,
      "outputs": []
    },
    {
      "cell_type": "markdown",
      "metadata": {
        "id": "MY-X-bH7o8KY",
        "colab_type": "text"
      },
      "source": [
        "## PreProcessing"
      ]
    },
    {
      "cell_type": "code",
      "metadata": {
        "id": "eN-eUfoPo8Ka",
        "colab_type": "code",
        "colab": {
          "base_uri": "https://localhost:8080/",
          "height": 34
        },
        "outputId": "decf10ff-ff27-4354-cd45-337e619f8dd4"
      },
      "source": [
        "x_train.shape"
      ],
      "execution_count": 10,
      "outputs": [
        {
          "output_type": "execute_result",
          "data": {
            "text/plain": [
              "(50000, 32, 32, 3)"
            ]
          },
          "metadata": {
            "tags": []
          },
          "execution_count": 10
        }
      ]
    },
    {
      "cell_type": "code",
      "metadata": {
        "id": "SDzJMNGjo8LH",
        "colab_type": "code",
        "colab": {
          "base_uri": "https://localhost:8080/",
          "height": 34
        },
        "outputId": "ad50b70d-7be7-4f65-e6c3-177fff7abb8a"
      },
      "source": [
        "x_test.shape"
      ],
      "execution_count": 11,
      "outputs": [
        {
          "output_type": "execute_result",
          "data": {
            "text/plain": [
              "(10000, 32, 32, 3)"
            ]
          },
          "metadata": {
            "tags": []
          },
          "execution_count": 11
        }
      ]
    },
    {
      "cell_type": "code",
      "metadata": {
        "id": "dudgTDQ_o8LM",
        "colab_type": "code",
        "colab": {
          "base_uri": "https://localhost:8080/",
          "height": 34
        },
        "outputId": "673b2951-08ee-4017-c016-4d65b67a4596"
      },
      "source": [
        "x_train.max()"
      ],
      "execution_count": 12,
      "outputs": [
        {
          "output_type": "execute_result",
          "data": {
            "text/plain": [
              "255"
            ]
          },
          "metadata": {
            "tags": []
          },
          "execution_count": 12
        }
      ]
    },
    {
      "cell_type": "code",
      "metadata": {
        "id": "aGxuWOW_o8L8",
        "colab_type": "code",
        "colab": {
          "base_uri": "https://localhost:8080/",
          "height": 34
        },
        "outputId": "8459731f-511d-4672-a98c-e10a5b049275"
      },
      "source": [
        "x_train.min()"
      ],
      "execution_count": 13,
      "outputs": [
        {
          "output_type": "execute_result",
          "data": {
            "text/plain": [
              "0"
            ]
          },
          "metadata": {
            "tags": []
          },
          "execution_count": 13
        }
      ]
    },
    {
      "cell_type": "code",
      "metadata": {
        "id": "ukHjnIXEo8MO",
        "colab_type": "code",
        "colab": {
          "base_uri": "https://localhost:8080/",
          "height": 840
        },
        "outputId": "81828234-419d-4261-b148-26425bc017f1"
      },
      "source": [
        "x_train[0]"
      ],
      "execution_count": 14,
      "outputs": [
        {
          "output_type": "execute_result",
          "data": {
            "text/plain": [
              "array([[[ 59,  62,  63],\n",
              "        [ 43,  46,  45],\n",
              "        [ 50,  48,  43],\n",
              "        ...,\n",
              "        [158, 132, 108],\n",
              "        [152, 125, 102],\n",
              "        [148, 124, 103]],\n",
              "\n",
              "       [[ 16,  20,  20],\n",
              "        [  0,   0,   0],\n",
              "        [ 18,   8,   0],\n",
              "        ...,\n",
              "        [123,  88,  55],\n",
              "        [119,  83,  50],\n",
              "        [122,  87,  57]],\n",
              "\n",
              "       [[ 25,  24,  21],\n",
              "        [ 16,   7,   0],\n",
              "        [ 49,  27,   8],\n",
              "        ...,\n",
              "        [118,  84,  50],\n",
              "        [120,  84,  50],\n",
              "        [109,  73,  42]],\n",
              "\n",
              "       ...,\n",
              "\n",
              "       [[208, 170,  96],\n",
              "        [201, 153,  34],\n",
              "        [198, 161,  26],\n",
              "        ...,\n",
              "        [160, 133,  70],\n",
              "        [ 56,  31,   7],\n",
              "        [ 53,  34,  20]],\n",
              "\n",
              "       [[180, 139,  96],\n",
              "        [173, 123,  42],\n",
              "        [186, 144,  30],\n",
              "        ...,\n",
              "        [184, 148,  94],\n",
              "        [ 97,  62,  34],\n",
              "        [ 83,  53,  34]],\n",
              "\n",
              "       [[177, 144, 116],\n",
              "        [168, 129,  94],\n",
              "        [179, 142,  87],\n",
              "        ...,\n",
              "        [216, 184, 140],\n",
              "        [151, 118,  84],\n",
              "        [123,  92,  72]]], dtype=uint8)"
            ]
          },
          "metadata": {
            "tags": []
          },
          "execution_count": 14
        }
      ]
    },
    {
      "cell_type": "code",
      "metadata": {
        "id": "TTDgHp-To8Mb",
        "colab_type": "code",
        "colab": {}
      },
      "source": [
        "x_train=x_train/255\n",
        "x_test=x_test/255"
      ],
      "execution_count": 15,
      "outputs": []
    },
    {
      "cell_type": "markdown",
      "metadata": {
        "id": "BbBfgi4Uo8Mi",
        "colab_type": "text"
      },
      "source": [
        "## Labels"
      ]
    },
    {
      "cell_type": "code",
      "metadata": {
        "id": "Wjkj2fnDo8Mj",
        "colab_type": "code",
        "colab": {}
      },
      "source": [
        "from tensorflow.keras.utils import to_categorical"
      ],
      "execution_count": 16,
      "outputs": []
    },
    {
      "cell_type": "code",
      "metadata": {
        "id": "WThzJGeEo8Mr",
        "colab_type": "code",
        "colab": {}
      },
      "source": [
        "y_cat_train=to_categorical(y_train,10)"
      ],
      "execution_count": 17,
      "outputs": []
    },
    {
      "cell_type": "code",
      "metadata": {
        "id": "VGDFhQdio8Mv",
        "colab_type": "code",
        "colab": {}
      },
      "source": [
        "y_cat_test=to_categorical(y_test,10)"
      ],
      "execution_count": 18,
      "outputs": []
    },
    {
      "cell_type": "markdown",
      "metadata": {
        "id": "R65Ufd6no8M1",
        "colab_type": "text"
      },
      "source": [
        "## building the model"
      ]
    },
    {
      "cell_type": "code",
      "metadata": {
        "id": "wkcY0StNo8M2",
        "colab_type": "code",
        "colab": {}
      },
      "source": [
        "from tensorflow.keras.models import Sequential\n",
        "from tensorflow.keras.layers import Dense, Conv2D, MaxPool2D, Flatten"
      ],
      "execution_count": 19,
      "outputs": []
    },
    {
      "cell_type": "code",
      "metadata": {
        "id": "0VhnR2Zyo8NH",
        "colab_type": "code",
        "colab": {}
      },
      "source": [
        "model = Sequential()\n",
        "\n",
        "# FIRST SET OF LAYERS\n",
        "\n",
        "# CONVOLUTIONAL LAYER\n",
        "model.add(Conv2D(filters=32, kernel_size=(4,4),input_shape=(32, 32, 3), activation='relu'))\n",
        "# POOLING LAYER\n",
        "model.add(MaxPool2D(pool_size=(2, 2)))\n",
        "\n",
        "# SECOND SET OF LAYERS\n",
        "\n",
        "# CONVOLUTIONAL LAYER\n",
        "model.add(Conv2D(filters=32, kernel_size=(4,4),input_shape=(32, 32, 3), activation='relu'))\n",
        "# POOLING LAYER\n",
        "model.add(MaxPool2D(pool_size=(2, 2)))\n",
        "\n",
        "# FLATTEN IMAGES FROM 28 by 28 to 764 BEFORE FINAL LAYER\n",
        "model.add(Flatten())\n",
        "\n",
        "# 256 NEURONS IN DENSE HIDDEN LAYER \n",
        "model.add(Dense(256, activation='relu'))\n",
        "\n",
        "# 10 POSSIBLE CLASSES\n",
        "model.add(Dense(10, activation='softmax'))\n",
        "\n",
        "\n",
        "model.compile(loss='categorical_crossentropy',\n",
        "              optimizer='rmsprop',\n",
        "              metrics=['accuracy'])"
      ],
      "execution_count": 20,
      "outputs": []
    },
    {
      "cell_type": "code",
      "metadata": {
        "id": "d5iZ-Exjo8NM",
        "colab_type": "code",
        "colab": {
          "base_uri": "https://localhost:8080/",
          "height": 386
        },
        "outputId": "07e0d9e7-7c21-4c62-c7e2-8943024cfc07"
      },
      "source": [
        "model.summary()"
      ],
      "execution_count": 21,
      "outputs": [
        {
          "output_type": "stream",
          "text": [
            "Model: \"sequential\"\n",
            "_________________________________________________________________\n",
            "Layer (type)                 Output Shape              Param #   \n",
            "=================================================================\n",
            "conv2d (Conv2D)              (None, 29, 29, 32)        1568      \n",
            "_________________________________________________________________\n",
            "max_pooling2d (MaxPooling2D) (None, 14, 14, 32)        0         \n",
            "_________________________________________________________________\n",
            "conv2d_1 (Conv2D)            (None, 11, 11, 32)        16416     \n",
            "_________________________________________________________________\n",
            "max_pooling2d_1 (MaxPooling2 (None, 5, 5, 32)          0         \n",
            "_________________________________________________________________\n",
            "flatten (Flatten)            (None, 800)               0         \n",
            "_________________________________________________________________\n",
            "dense (Dense)                (None, 256)               205056    \n",
            "_________________________________________________________________\n",
            "dense_1 (Dense)              (None, 10)                2570      \n",
            "=================================================================\n",
            "Total params: 225,610\n",
            "Trainable params: 225,610\n",
            "Non-trainable params: 0\n",
            "_________________________________________________________________\n"
          ],
          "name": "stdout"
        }
      ]
    },
    {
      "cell_type": "code",
      "metadata": {
        "id": "b9OHZucho8NR",
        "colab_type": "code",
        "colab": {
          "base_uri": "https://localhost:8080/",
          "height": 269
        },
        "outputId": "31088afe-a7fc-4d46-9b67-856ff849d8d0"
      },
      "source": [
        "from tensorflow.keras.callbacks import EarlyStopping\n",
        "early_stop = EarlyStopping(monitor='val_loss',patience=3)\n",
        "model.fit(x_train,y_cat_train,epochs=15,validation_data=(x_test,y_cat_test),callbacks=[early_stop])"
      ],
      "execution_count": 22,
      "outputs": [
        {
          "output_type": "stream",
          "text": [
            "Epoch 1/15\n",
            "1563/1563 [==============================] - 11s 7ms/step - loss: 1.5399 - accuracy: 0.4468 - val_loss: 1.2886 - val_accuracy: 0.5398\n",
            "Epoch 2/15\n",
            "1563/1563 [==============================] - 11s 7ms/step - loss: 1.1904 - accuracy: 0.5810 - val_loss: 1.2040 - val_accuracy: 0.5819\n",
            "Epoch 3/15\n",
            "1563/1563 [==============================] - 11s 7ms/step - loss: 1.0439 - accuracy: 0.6379 - val_loss: 1.1030 - val_accuracy: 0.6191\n",
            "Epoch 4/15\n",
            "1563/1563 [==============================] - 11s 7ms/step - loss: 0.9314 - accuracy: 0.6784 - val_loss: 0.9881 - val_accuracy: 0.6610\n",
            "Epoch 5/15\n",
            "1563/1563 [==============================] - 11s 7ms/step - loss: 0.8495 - accuracy: 0.7100 - val_loss: 1.0420 - val_accuracy: 0.6593\n",
            "Epoch 6/15\n",
            "1563/1563 [==============================] - 11s 7ms/step - loss: 0.7777 - accuracy: 0.7328 - val_loss: 1.2529 - val_accuracy: 0.5995\n",
            "Epoch 7/15\n",
            "1563/1563 [==============================] - 11s 7ms/step - loss: 0.7286 - accuracy: 0.7524 - val_loss: 1.0110 - val_accuracy: 0.6720\n"
          ],
          "name": "stdout"
        },
        {
          "output_type": "execute_result",
          "data": {
            "text/plain": [
              "<tensorflow.python.keras.callbacks.History at 0x7f71b7869358>"
            ]
          },
          "metadata": {
            "tags": []
          },
          "execution_count": 22
        }
      ]
    },
    {
      "cell_type": "code",
      "metadata": {
        "id": "LyxejJzNo8NY",
        "colab_type": "code",
        "colab": {}
      },
      "source": [
        "losses=pd.DataFrame(model.history.history)"
      ],
      "execution_count": 23,
      "outputs": []
    },
    {
      "cell_type": "code",
      "metadata": {
        "id": "J8U6ZskQo8Ne",
        "colab_type": "code",
        "colab": {
          "base_uri": "https://localhost:8080/",
          "height": 195
        },
        "outputId": "9c604a9c-7154-4666-8d39-381bc40eeffb"
      },
      "source": [
        "losses.head()"
      ],
      "execution_count": 24,
      "outputs": [
        {
          "output_type": "execute_result",
          "data": {
            "text/html": [
              "<div>\n",
              "<style scoped>\n",
              "    .dataframe tbody tr th:only-of-type {\n",
              "        vertical-align: middle;\n",
              "    }\n",
              "\n",
              "    .dataframe tbody tr th {\n",
              "        vertical-align: top;\n",
              "    }\n",
              "\n",
              "    .dataframe thead th {\n",
              "        text-align: right;\n",
              "    }\n",
              "</style>\n",
              "<table border=\"1\" class=\"dataframe\">\n",
              "  <thead>\n",
              "    <tr style=\"text-align: right;\">\n",
              "      <th></th>\n",
              "      <th>loss</th>\n",
              "      <th>accuracy</th>\n",
              "      <th>val_loss</th>\n",
              "      <th>val_accuracy</th>\n",
              "    </tr>\n",
              "  </thead>\n",
              "  <tbody>\n",
              "    <tr>\n",
              "      <th>0</th>\n",
              "      <td>1.539926</td>\n",
              "      <td>0.44680</td>\n",
              "      <td>1.288594</td>\n",
              "      <td>0.5398</td>\n",
              "    </tr>\n",
              "    <tr>\n",
              "      <th>1</th>\n",
              "      <td>1.190435</td>\n",
              "      <td>0.58098</td>\n",
              "      <td>1.203967</td>\n",
              "      <td>0.5819</td>\n",
              "    </tr>\n",
              "    <tr>\n",
              "      <th>2</th>\n",
              "      <td>1.043857</td>\n",
              "      <td>0.63794</td>\n",
              "      <td>1.103029</td>\n",
              "      <td>0.6191</td>\n",
              "    </tr>\n",
              "    <tr>\n",
              "      <th>3</th>\n",
              "      <td>0.931448</td>\n",
              "      <td>0.67840</td>\n",
              "      <td>0.988120</td>\n",
              "      <td>0.6610</td>\n",
              "    </tr>\n",
              "    <tr>\n",
              "      <th>4</th>\n",
              "      <td>0.849504</td>\n",
              "      <td>0.71002</td>\n",
              "      <td>1.041962</td>\n",
              "      <td>0.6593</td>\n",
              "    </tr>\n",
              "  </tbody>\n",
              "</table>\n",
              "</div>"
            ],
            "text/plain": [
              "       loss  accuracy  val_loss  val_accuracy\n",
              "0  1.539926   0.44680  1.288594        0.5398\n",
              "1  1.190435   0.58098  1.203967        0.5819\n",
              "2  1.043857   0.63794  1.103029        0.6191\n",
              "3  0.931448   0.67840  0.988120        0.6610\n",
              "4  0.849504   0.71002  1.041962        0.6593"
            ]
          },
          "metadata": {
            "tags": []
          },
          "execution_count": 24
        }
      ]
    },
    {
      "cell_type": "code",
      "metadata": {
        "id": "T80bKyqmo8Nl",
        "colab_type": "code",
        "colab": {
          "base_uri": "https://localhost:8080/",
          "height": 282
        },
        "outputId": "8dd314a9-fba4-444d-fc9f-9d992846596b"
      },
      "source": [
        "losses[['accuracy','val_accuracy']].plot()"
      ],
      "execution_count": 25,
      "outputs": [
        {
          "output_type": "execute_result",
          "data": {
            "text/plain": [
              "<matplotlib.axes._subplots.AxesSubplot at 0x7f71b2dd3860>"
            ]
          },
          "metadata": {
            "tags": []
          },
          "execution_count": 25
        },
        {
          "output_type": "display_data",
          "data": {
            "image/png": "[encoded data removed]",
            "text/plain": [
              "<Figure size 432x288 with 1 Axes>"
            ]
          },
          "metadata": {
            "tags": [],
            "needs_background": "light"
          }
        }
      ]
    },
    {
      "cell_type": "code",
      "metadata": {
        "id": "SvIW6bX8o8N4",
        "colab_type": "code",
        "colab": {
          "base_uri": "https://localhost:8080/",
          "height": 282
        },
        "outputId": "e147d5bf-08ef-4003-9354-885e9fee75e0"
      },
      "source": [
        "losses[['loss','val_loss']].plot()"
      ],
      "execution_count": 26,
      "outputs": [
        {
          "output_type": "execute_result",
          "data": {
            "text/plain": [
              "<matplotlib.axes._subplots.AxesSubplot at 0x7f71b45deef0>"
            ]
          },
          "metadata": {
            "tags": []
          },
          "execution_count": 26
        },
        {
          "output_type": "display_data",
          "data": {
            "image/png": "[encoded data removed]",
            "text/plain": [
              "<Figure size 432x288 with 1 Axes>"
            ]
          },
          "metadata": {
            "tags": [],
            "needs_background": "light"
          }
        }
      ]
    },
    {
      "cell_type": "code",
      "metadata": {
        "id": "VNFY8i5co8N8",
        "colab_type": "code",
        "colab": {
          "base_uri": "https://localhost:8080/",
          "height": 34
        },
        "outputId": "1f6f6793-7309-4aff-ea6a-ecc18f12ffa4"
      },
      "source": [
        "test_result=model.evaluate(x_test,y_cat_test)"
      ],
      "execution_count": 27,
      "outputs": [
        {
          "output_type": "stream",
          "text": [
            "313/313 [==============================] - 1s 4ms/step - loss: 1.0110 - accuracy: 0.6720\n"
          ],
          "name": "stdout"
        }
      ]
    },
    {
      "cell_type": "code",
      "metadata": {
        "id": "PkDZMxtno8OC",
        "colab_type": "code",
        "colab": {
          "base_uri": "https://localhost:8080/",
          "height": 106
        },
        "outputId": "ff89a691-f933-434b-effa-8b1f117ae8ca"
      },
      "source": [
        "pd.DataFrame(test_result,index=model.metrics_names,columns=['Test Data Metrics'])"
      ],
      "execution_count": 28,
      "outputs": [
        {
          "output_type": "execute_result",
          "data": {
            "text/html": [
              "<div>\n",
              "<style scoped>\n",
              "    .dataframe tbody tr th:only-of-type {\n",
              "        vertical-align: middle;\n",
              "    }\n",
              "\n",
              "    .dataframe tbody tr th {\n",
              "        vertical-align: top;\n",
              "    }\n",
              "\n",
              "    .dataframe thead th {\n",
              "        text-align: right;\n",
              "    }\n",
              "</style>\n",
              "<table border=\"1\" class=\"dataframe\">\n",
              "  <thead>\n",
              "    <tr style=\"text-align: right;\">\n",
              "      <th></th>\n",
              "      <th>Test Data Metrics</th>\n",
              "    </tr>\n",
              "  </thead>\n",
              "  <tbody>\n",
              "    <tr>\n",
              "      <th>loss</th>\n",
              "      <td>1.010971</td>\n",
              "    </tr>\n",
              "    <tr>\n",
              "      <th>accuracy</th>\n",
              "      <td>0.672000</td>\n",
              "    </tr>\n",
              "  </tbody>\n",
              "</table>\n",
              "</div>"
            ],
            "text/plain": [
              "          Test Data Metrics\n",
              "loss               1.010971\n",
              "accuracy           0.672000"
            ]
          },
          "metadata": {
            "tags": []
          },
          "execution_count": 28
        }
      ]
    },
    {
      "cell_type": "code",
      "metadata": {
        "id": "cSvQykwXo8OJ",
        "colab_type": "code",
        "colab": {
          "base_uri": "https://localhost:8080/",
          "height": 87
        },
        "outputId": "f55d6ab6-199f-4b79-eb21-95676d1761e4"
      },
      "source": [
        "predictions=model.predict_classes(x_test)"
      ],
      "execution_count": 29,
      "outputs": [
        {
          "output_type": "stream",
          "text": [
            "WARNING:tensorflow:From <ipython-input-29-db3e43dc1613>:1: Sequential.predict_classes (from tensorflow.python.keras.engine.sequential) is deprecated and will be removed after 2021-01-01.\n",
            "Instructions for updating:\n",
            "Please use instead:* `np.argmax(model.predict(x), axis=-1)`,   if your model does multi-class classification   (e.g. if it uses a `softmax` last-layer activation).* `(model.predict(x) > 0.5).astype(\"int32\")`,   if your model does binary classification   (e.g. if it uses a `sigmoid` last-layer activation).\n"
          ],
          "name": "stdout"
        }
      ]
    },
    {
      "cell_type": "code",
      "metadata": {
        "id": "8s1hfw_So8ON",
        "colab_type": "code",
        "colab": {
          "base_uri": "https://localhost:8080/",
          "height": 195
        },
        "outputId": "8d969f0f-839c-4f0b-b112-24be6c75dd5c"
      },
      "source": [
        "pd.DataFrame(y_test,predictions,columns=['Preditions']).head()"
      ],
      "execution_count": 30,
      "outputs": [
        {
          "output_type": "execute_result",
          "data": {
            "text/html": [
              "<div>\n",
              "<style scoped>\n",
              "    .dataframe tbody tr th:only-of-type {\n",
              "        vertical-align: middle;\n",
              "    }\n",
              "\n",
              "    .dataframe tbody tr th {\n",
              "        vertical-align: top;\n",
              "    }\n",
              "\n",
              "    .dataframe thead th {\n",
              "        text-align: right;\n",
              "    }\n",
              "</style>\n",
              "<table border=\"1\" class=\"dataframe\">\n",
              "  <thead>\n",
              "    <tr style=\"text-align: right;\">\n",
              "      <th></th>\n",
              "      <th>Preditions</th>\n",
              "    </tr>\n",
              "  </thead>\n",
              "  <tbody>\n",
              "    <tr>\n",
              "      <th>5</th>\n",
              "      <td>3</td>\n",
              "    </tr>\n",
              "    <tr>\n",
              "      <th>8</th>\n",
              "      <td>8</td>\n",
              "    </tr>\n",
              "    <tr>\n",
              "      <th>8</th>\n",
              "      <td>8</td>\n",
              "    </tr>\n",
              "    <tr>\n",
              "      <th>0</th>\n",
              "      <td>0</td>\n",
              "    </tr>\n",
              "    <tr>\n",
              "      <th>4</th>\n",
              "      <td>6</td>\n",
              "    </tr>\n",
              "  </tbody>\n",
              "</table>\n",
              "</div>"
            ],
            "text/plain": [
              "   Preditions\n",
              "5           3\n",
              "8           8\n",
              "8           8\n",
              "0           0\n",
              "4           6"
            ]
          },
          "metadata": {
            "tags": []
          },
          "execution_count": 30
        }
      ]
    },
    {
      "cell_type": "code",
      "metadata": {
        "id": "qgOwehtTo8OS",
        "colab_type": "code",
        "colab": {}
      },
      "source": [
        "from sklearn.metrics import classification_report,confusion_matrix"
      ],
      "execution_count": 31,
      "outputs": []
    },
    {
      "cell_type": "code",
      "metadata": {
        "id": "hpA-52MSo8Ob",
        "colab_type": "code",
        "colab": {
          "base_uri": "https://localhost:8080/",
          "height": 302
        },
        "outputId": "0c32e1ec-7d8e-4462-d451-7716088dd3e5"
      },
      "source": [
        "print(classification_report(y_test,predictions))"
      ],
      "execution_count": 32,
      "outputs": [
        {
          "output_type": "stream",
          "text": [
            "              precision    recall  f1-score   support\n",
            "\n",
            "           0       0.76      0.70      0.73      1000\n",
            "           1       0.89      0.69      0.77      1000\n",
            "           2       0.55      0.60      0.57      1000\n",
            "           3       0.54      0.33      0.41      1000\n",
            "           4       0.62      0.63      0.63      1000\n",
            "           5       0.50      0.70      0.58      1000\n",
            "           6       0.69      0.83      0.75      1000\n",
            "           7       0.78      0.68      0.73      1000\n",
            "           8       0.80      0.77      0.78      1000\n",
            "           9       0.71      0.80      0.75      1000\n",
            "\n",
            "    accuracy                           0.67     10000\n",
            "   macro avg       0.68      0.67      0.67     10000\n",
            "weighted avg       0.68      0.67      0.67     10000\n",
            "\n"
          ],
          "name": "stdout"
        }
      ]
    },
    {
      "cell_type": "code",
      "metadata": {
        "id": "fTO0jE6ro8Of",
        "colab_type": "code",
        "colab": {
          "base_uri": "https://localhost:8080/",
          "height": 722
        },
        "outputId": "10e34339-009b-4226-ab7b-ac9ce779f74a"
      },
      "source": [
        "print(confusion_matrix(y_test,predictions))\n",
        "plt.figure(figsize=(12,8))\n",
        "import seaborn as sns\n",
        "sns.heatmap(confusion_matrix(y_test,predictions),annot=True)"
      ],
      "execution_count": 33,
      "outputs": [
        {
          "output_type": "stream",
          "text": [
            "[[705  11  64  24  35  19  11  15  76  40]\n",
            " [ 18 688  25  12   9  19  25   6  39 159]\n",
            " [ 43   3 601  30  91 105  85  20  11  11]\n",
            " [ 12   3 105 326  71 324  90  31  10  28]\n",
            " [ 14   1  83  47 632  76  91  42  13   1]\n",
            " [  7   1  81  79  37 697  40  43   4  11]\n",
            " [  7   0  37  35  30  42 826   7   4  12]\n",
            " [ 15   1  49  25  92  93  18 679   3  25]\n",
            " [ 76  24  27  15  18  13   6   6 770  45]\n",
            " [ 31  44  22  13   6  19  10  22  37 796]]\n"
          ],
          "name": "stdout"
        },
        {
          "output_type": "stream",
          "text": [
            "/usr/local/lib/python3.6/dist-packages/statsmodels/tools/_testing.py:19: FutureWarning: pandas.util.testing is deprecated. Use the functions in the public API at pandas.testing instead.\n",
            "  import pandas.util.testing as tm\n"
          ],
          "name": "stderr"
        },
        {
          "output_type": "execute_result",
          "data": {
            "text/plain": [
              "<matplotlib.axes._subplots.AxesSubplot at 0x7f71ac150978>"
            ]
          },
          "metadata": {
            "tags": []
          },
          "execution_count": 33
        },
        {
          "output_type": "display_data",
          "data": {
            "image/png": "[encoded data removed]",
            "text/plain": [
              "<Figure size 864x576 with 2 Axes>"
            ]
          },
          "metadata": {
            "tags": [],
            "needs_background": "light"
          }
        }
      ]
    },
    {
      "cell_type": "code",
      "metadata": {
        "id": "qY_UhHFqo8Oj",
        "colab_type": "code",
        "colab": {}
      },
      "source": [
        "#Looks like the model accuracy in training as well as test set is lower; so deeper NN and hyper parameter tuning is required\n"
      ],
      "execution_count": 34,
      "outputs": []
    },
    {
      "cell_type": "code",
      "metadata": {
        "id": "OOoEaq2ho8Oo",
        "colab_type": "code",
        "colab": {}
      },
      "source": [
        "def build_model():\n",
        "    model=tensorflow.keras.Sequential()\n",
        "    \n",
        "    #1st layer\n",
        "    model.add(tensorflow.keras.layers.Conv2D(filters=32,padding='same',kernel_size=3,input_shape=(32,32,3)))\n",
        "    model.add(tensorflow.keras.layers.BatchNormalization())\n",
        "    model.add(tensorflow.keras.layers.Activation('relu'))\n",
        "    model.add(tensorflow.keras.layers.Conv2D(filters=32,padding='same',kernel_size=3))\n",
        "    model.add(tensorflow.keras.layers.BatchNormalization())\n",
        "    model.add(tensorflow.keras.layers.Activation('relu'))\n",
        "    model.add(tensorflow.keras.layers.MaxPooling2D(pool_size=2))\n",
        "    model.add(tensorflow.keras.layers.Dropout(0.2))\n",
        "\n",
        "    #2nd layer\n",
        "    model.add(tensorflow.keras.layers.Conv2D(filters=64,padding='same',kernel_size=3))\n",
        "    model.add(tensorflow.keras.layers.BatchNormalization())\n",
        "    model.add(tensorflow.keras.layers.Activation('relu'))\n",
        "    model.add(tensorflow.keras.layers.Conv2D(filters=64,padding='same',kernel_size=3))\n",
        "    model.add(tensorflow.keras.layers.BatchNormalization())\n",
        "    model.add(tensorflow.keras.layers.Activation('relu'))\n",
        "    model.add(tensorflow.keras.layers.MaxPooling2D(pool_size=2))\n",
        "    model.add(tensorflow.keras.layers.Dropout(0.2))\n",
        "\n",
        "    #3rd layer\n",
        "    model.add(tensorflow.keras.layers.Conv2D(filters=128,padding='same',kernel_size=3))\n",
        "    model.add(tensorflow.keras.layers.BatchNormalization())\n",
        "    model.add(tensorflow.keras.layers.Activation('relu'))\n",
        "    model.add(tensorflow.keras.layers.Conv2D(filters=128,padding='same',kernel_size=3))\n",
        "    model.add(tensorflow.keras.layers.BatchNormalization())\n",
        "    model.add(tensorflow.keras.layers.Activation('relu'))\n",
        "    model.add(tensorflow.keras.layers.MaxPooling2D(pool_size=2))\n",
        "    model.add(tensorflow.keras.layers.Dropout(0.2))\n",
        " \n",
        "    #4th layer\n",
        "    model.add(tensorflow.keras.layers.Flatten()) #to make 4x4x128 layer to 2048 flat layer  \n",
        "    model.add(tensorflow.keras.layers.Dense(10,activation='softmax'))#output has  10 classes\n",
        "  \n",
        "    return model"
      ],
      "execution_count": 35,
      "outputs": []
    },
    {
      "cell_type": "code",
      "metadata": {
        "id": "NTU_RMT5o8Os",
        "colab_type": "code",
        "colab": {
          "base_uri": "https://localhost:8080/",
          "height": 1000
        },
        "outputId": "08f39129-89b0-4ca1-e6d1-8fa675e96170"
      },
      "source": [
        "model=build_model()\n",
        "model.summary()"
      ],
      "execution_count": 36,
      "outputs": [
        {
          "output_type": "stream",
          "text": [
            "Model: \"sequential_1\"\n",
            "_________________________________________________________________\n",
            "Layer (type)                 Output Shape              Param #   \n",
            "=================================================================\n",
            "conv2d_2 (Conv2D)            (None, 32, 32, 32)        896       \n",
            "_________________________________________________________________\n",
            "batch_normalization (BatchNo (None, 32, 32, 32)        128       \n",
            "_________________________________________________________________\n",
            "activation (Activation)      (None, 32, 32, 32)        0         \n",
            "_________________________________________________________________\n",
            "conv2d_3 (Conv2D)            (None, 32, 32, 32)        9248      \n",
            "_________________________________________________________________\n",
            "batch_normalization_1 (Batch (None, 32, 32, 32)        128       \n",
            "_________________________________________________________________\n",
            "activation_1 (Activation)    (None, 32, 32, 32)        0         \n",
            "_________________________________________________________________\n",
            "max_pooling2d_2 (MaxPooling2 (None, 16, 16, 32)        0         \n",
            "_________________________________________________________________\n",
            "dropout (Dropout)            (None, 16, 16, 32)        0         \n",
            "_________________________________________________________________\n",
            "conv2d_4 (Conv2D)            (None, 16, 16, 64)        18496     \n",
            "_________________________________________________________________\n",
            "batch_normalization_2 (Batch (None, 16, 16, 64)        256       \n",
            "_________________________________________________________________\n",
            "activation_2 (Activation)    (None, 16, 16, 64)        0         \n",
            "_________________________________________________________________\n",
            "conv2d_5 (Conv2D)            (None, 16, 16, 64)        36928     \n",
            "_________________________________________________________________\n",
            "batch_normalization_3 (Batch (None, 16, 16, 64)        256       \n",
            "_________________________________________________________________\n",
            "activation_3 (Activation)    (None, 16, 16, 64)        0         \n",
            "_________________________________________________________________\n",
            "max_pooling2d_3 (MaxPooling2 (None, 8, 8, 64)          0         \n",
            "_________________________________________________________________\n",
            "dropout_1 (Dropout)          (None, 8, 8, 64)          0         \n",
            "_________________________________________________________________\n",
            "conv2d_6 (Conv2D)            (None, 8, 8, 128)         73856     \n",
            "_________________________________________________________________\n",
            "batch_normalization_4 (Batch (None, 8, 8, 128)         512       \n",
            "_________________________________________________________________\n",
            "activation_4 (Activation)    (None, 8, 8, 128)         0         \n",
            "_________________________________________________________________\n",
            "conv2d_7 (Conv2D)            (None, 8, 8, 128)         147584    \n",
            "_________________________________________________________________\n",
            "batch_normalization_5 (Batch (None, 8, 8, 128)         512       \n",
            "_________________________________________________________________\n",
            "activation_5 (Activation)    (None, 8, 8, 128)         0         \n",
            "_________________________________________________________________\n",
            "max_pooling2d_4 (MaxPooling2 (None, 4, 4, 128)         0         \n",
            "_________________________________________________________________\n",
            "dropout_2 (Dropout)          (None, 4, 4, 128)         0         \n",
            "_________________________________________________________________\n",
            "flatten_1 (Flatten)          (None, 2048)              0         \n",
            "_________________________________________________________________\n",
            "dense_2 (Dense)              (None, 10)                20490     \n",
            "=================================================================\n",
            "Total params: 309,290\n",
            "Trainable params: 308,394\n",
            "Non-trainable params: 896\n",
            "_________________________________________________________________\n"
          ],
          "name": "stdout"
        }
      ]
    },
    {
      "cell_type": "markdown",
      "metadata": {
        "id": "78j3SJ4Jo8Ox",
        "colab_type": "text"
      },
      "source": [
        "## Training with Adam Optimizer"
      ]
    },
    {
      "cell_type": "code",
      "metadata": {
        "id": "_9wzBRDDo8Oy",
        "colab_type": "code",
        "colab": {}
      },
      "source": [
        "model=build_model()\n",
        "optimizer=tensorflow.keras.optimizers.Adam(lr=0.001, beta_1=0.9, beta_2=0.999, epsilon=1e-8, decay=1e-5, amsgrad=False)\n",
        "early_stopping = EarlyStopping(monitor='val_loss', mode='min', patience=5, restore_best_weights=True, verbose=1)\n",
        "red_lr = tensorflow.keras.callbacks.ReduceLROnPlateau(monitor='val_loss', mode='min', patience=3, factor=0.5, min_lr=1e-6, verbose=1)\n",
        "model.compile(loss='categorical_crossentropy',optimizer=optimizer,metrics=['accuracy'])"
      ],
      "execution_count": 37,
      "outputs": []
    },
    {
      "cell_type": "code",
      "metadata": {
        "id": "qkkv6B3Mo8O4",
        "colab_type": "code",
        "colab": {
          "base_uri": "https://localhost:8080/",
          "height": 890
        },
        "outputId": "74343472-cc0e-4894-d7ef-8a2f80f3f142"
      },
      "source": [
        "history_adam=model.fit(x_train,y_cat_train,epochs=75,batch_size=256,validation_split=0.2,callbacks=[early_stopping,red_lr]).history"
      ],
      "execution_count": 38,
      "outputs": [
        {
          "output_type": "stream",
          "text": [
            "Epoch 1/75\n",
            "157/157 [==============================] - 10s 65ms/step - loss: 1.6789 - accuracy: 0.4265 - val_loss: 3.4744 - val_accuracy: 0.1066 - lr: 0.0010\n",
            "Epoch 2/75\n",
            "157/157 [==============================] - 10s 62ms/step - loss: 1.1574 - accuracy: 0.5898 - val_loss: 2.3121 - val_accuracy: 0.2842 - lr: 0.0010\n",
            "Epoch 3/75\n",
            "157/157 [==============================] - 10s 61ms/step - loss: 0.9449 - accuracy: 0.6672 - val_loss: 1.5472 - val_accuracy: 0.4884 - lr: 0.0010\n",
            "Epoch 4/75\n",
            "157/157 [==============================] - 10s 62ms/step - loss: 0.8164 - accuracy: 0.7135 - val_loss: 1.0540 - val_accuracy: 0.6496 - lr: 0.0010\n",
            "Epoch 5/75\n",
            "157/157 [==============================] - 10s 62ms/step - loss: 0.7359 - accuracy: 0.7401 - val_loss: 0.9119 - val_accuracy: 0.7010 - lr: 0.0010\n",
            "Epoch 6/75\n",
            "157/157 [==============================] - 10s 62ms/step - loss: 0.6686 - accuracy: 0.7667 - val_loss: 0.7591 - val_accuracy: 0.7342 - lr: 0.0010\n",
            "Epoch 7/75\n",
            "157/157 [==============================] - 10s 62ms/step - loss: 0.6195 - accuracy: 0.7835 - val_loss: 0.7309 - val_accuracy: 0.7488 - lr: 0.0010\n",
            "Epoch 8/75\n",
            "157/157 [==============================] - 10s 61ms/step - loss: 0.5715 - accuracy: 0.8018 - val_loss: 0.7409 - val_accuracy: 0.7533 - lr: 0.0010\n",
            "Epoch 9/75\n",
            "157/157 [==============================] - 10s 62ms/step - loss: 0.5417 - accuracy: 0.8072 - val_loss: 0.6443 - val_accuracy: 0.7790 - lr: 0.0010\n",
            "Epoch 10/75\n",
            "157/157 [==============================] - 10s 62ms/step - loss: 0.5071 - accuracy: 0.8204 - val_loss: 0.6441 - val_accuracy: 0.7827 - lr: 0.0010\n",
            "Epoch 11/75\n",
            "157/157 [==============================] - 10s 61ms/step - loss: 0.4741 - accuracy: 0.8329 - val_loss: 0.8406 - val_accuracy: 0.7347 - lr: 0.0010\n",
            "Epoch 12/75\n",
            "157/157 [==============================] - 10s 61ms/step - loss: 0.4450 - accuracy: 0.8432 - val_loss: 0.7044 - val_accuracy: 0.7715 - lr: 0.0010\n",
            "Epoch 13/75\n",
            "157/157 [==============================] - 10s 62ms/step - loss: 0.4226 - accuracy: 0.8518 - val_loss: 0.5794 - val_accuracy: 0.8050 - lr: 0.0010\n",
            "Epoch 14/75\n",
            "157/157 [==============================] - 10s 62ms/step - loss: 0.3975 - accuracy: 0.8600 - val_loss: 0.5971 - val_accuracy: 0.8002 - lr: 0.0010\n",
            "Epoch 15/75\n",
            "157/157 [==============================] - 10s 61ms/step - loss: 0.3710 - accuracy: 0.8687 - val_loss: 0.5810 - val_accuracy: 0.8045 - lr: 0.0010\n",
            "Epoch 16/75\n",
            "156/157 [============================>.] - ETA: 0s - loss: 0.3544 - accuracy: 0.8746\n",
            "Epoch 00016: ReduceLROnPlateau reducing learning rate to 0.0005000000237487257.\n",
            "157/157 [==============================] - 10s 61ms/step - loss: 0.3545 - accuracy: 0.8745 - val_loss: 0.5930 - val_accuracy: 0.8043 - lr: 0.0010\n",
            "Epoch 17/75\n",
            "157/157 [==============================] - 10s 62ms/step - loss: 0.2866 - accuracy: 0.9002 - val_loss: 0.5221 - val_accuracy: 0.8273 - lr: 5.0000e-04\n",
            "Epoch 18/75\n",
            "157/157 [==============================] - 10s 62ms/step - loss: 0.2659 - accuracy: 0.9061 - val_loss: 0.4739 - val_accuracy: 0.8410 - lr: 5.0000e-04\n",
            "Epoch 19/75\n",
            "157/157 [==============================] - 10s 62ms/step - loss: 0.2618 - accuracy: 0.9085 - val_loss: 0.5338 - val_accuracy: 0.8329 - lr: 5.0000e-04\n",
            "Epoch 20/75\n",
            "157/157 [==============================] - 10s 62ms/step - loss: 0.2428 - accuracy: 0.9151 - val_loss: 0.5169 - val_accuracy: 0.8317 - lr: 5.0000e-04\n",
            "Epoch 21/75\n",
            "156/157 [============================>.] - ETA: 0s - loss: 0.2342 - accuracy: 0.9183\n",
            "Epoch 00021: ReduceLROnPlateau reducing learning rate to 0.0002500000118743628.\n",
            "157/157 [==============================] - 10s 62ms/step - loss: 0.2345 - accuracy: 0.9182 - val_loss: 0.5310 - val_accuracy: 0.8302 - lr: 5.0000e-04\n",
            "Epoch 22/75\n",
            "157/157 [==============================] - 10s 62ms/step - loss: 0.2023 - accuracy: 0.9297 - val_loss: 0.4809 - val_accuracy: 0.8398 - lr: 2.5000e-04\n",
            "Epoch 23/75\n",
            "156/157 [============================>.] - ETA: 0s - loss: 0.1926 - accuracy: 0.9337Restoring model weights from the end of the best epoch.\n",
            "157/157 [==============================] - 10s 62ms/step - loss: 0.1925 - accuracy: 0.9337 - val_loss: 0.4778 - val_accuracy: 0.8429 - lr: 2.5000e-04\n",
            "Epoch 00023: early stopping\n"
          ],
          "name": "stdout"
        }
      ]
    },
    {
      "cell_type": "code",
      "metadata": {
        "id": "M66SnwBUo8O-",
        "colab_type": "code",
        "colab": {
          "base_uri": "https://localhost:8080/",
          "height": 34
        },
        "outputId": "134fcee5-b9f4-41d2-e77c-1e1fb27e81d9"
      },
      "source": [
        "print(\"accuracy on test set with Adam Optimizer is {} %\".format(model.evaluate(x_test, y_cat_test, verbose=0)[1]*100))"
      ],
      "execution_count": 39,
      "outputs": [
        {
          "output_type": "stream",
          "text": [
            "accuracy on test set with Adam Optimizer is 83.63999724388123 %\n"
          ],
          "name": "stdout"
        }
      ]
    },
    {
      "cell_type": "markdown",
      "metadata": {
        "id": "xf4g9ayRo8PB",
        "colab_type": "text"
      },
      "source": [
        "## RMS Prop"
      ]
    },
    {
      "cell_type": "code",
      "metadata": {
        "id": "dFWv7C6Qo8PE",
        "colab_type": "code",
        "colab": {}
      },
      "source": [
        "model=build_model()\n",
        "optimizer=tensorflow.keras.optimizers.RMSprop(lr=0.001, rho=0.9, epsilon=None, decay=1e-5)\n",
        "early_stopping = EarlyStopping(monitor='val_loss', mode='min', patience=5, restore_best_weights=True, verbose=1)\n",
        "red_lr = tensorflow.keras.callbacks.ReduceLROnPlateau(monitor='val_loss', mode='min', patience=3, factor=0.5, min_lr=1e-6, verbose=1)\n",
        "model.compile(loss='categorical_crossentropy',optimizer=optimizer,metrics=['accuracy'])"
      ],
      "execution_count": 40,
      "outputs": []
    },
    {
      "cell_type": "code",
      "metadata": {
        "id": "-pJDU6rOo8P2",
        "colab_type": "code",
        "colab": {
          "base_uri": "https://localhost:8080/",
          "height": 1000
        },
        "outputId": "58a68c21-e22c-430c-bbd2-2fbafc9e5ecc"
      },
      "source": [
        "history_RMSprop=model.fit(x_train,y_cat_train,epochs=75,batch_size=256,validation_split=0.2,callbacks=[early_stopping,red_lr]).history"
      ],
      "execution_count": 41,
      "outputs": [
        {
          "output_type": "stream",
          "text": [
            "Epoch 1/75\n",
            "157/157 [==============================] - 11s 68ms/step - loss: 1.8084 - accuracy: 0.3944 - val_loss: 3.6654 - val_accuracy: 0.0952 - lr: 0.0010\n",
            "Epoch 2/75\n",
            "157/157 [==============================] - 10s 66ms/step - loss: 1.2534 - accuracy: 0.5576 - val_loss: 2.6367 - val_accuracy: 0.2275 - lr: 0.0010\n",
            "Epoch 3/75\n",
            "157/157 [==============================] - 10s 66ms/step - loss: 1.0311 - accuracy: 0.6375 - val_loss: 1.6178 - val_accuracy: 0.4623 - lr: 0.0010\n",
            "Epoch 4/75\n",
            "157/157 [==============================] - 10s 67ms/step - loss: 0.8830 - accuracy: 0.6874 - val_loss: 1.6145 - val_accuracy: 0.4757 - lr: 0.0010\n",
            "Epoch 5/75\n",
            "157/157 [==============================] - 10s 66ms/step - loss: 0.7851 - accuracy: 0.7206 - val_loss: 0.9438 - val_accuracy: 0.6766 - lr: 0.0010\n",
            "Epoch 6/75\n",
            "157/157 [==============================] - 10s 66ms/step - loss: 0.7096 - accuracy: 0.7489 - val_loss: 1.3889 - val_accuracy: 0.5969 - lr: 0.0010\n",
            "Epoch 7/75\n",
            "157/157 [==============================] - 10s 66ms/step - loss: 0.6585 - accuracy: 0.7639 - val_loss: 1.2820 - val_accuracy: 0.5897 - lr: 0.0010\n",
            "Epoch 8/75\n",
            "156/157 [============================>.] - ETA: 0s - loss: 0.6040 - accuracy: 0.7866\n",
            "Epoch 00008: ReduceLROnPlateau reducing learning rate to 0.0005000000237487257.\n",
            "157/157 [==============================] - 10s 66ms/step - loss: 0.6042 - accuracy: 0.7865 - val_loss: 1.4549 - val_accuracy: 0.5857 - lr: 0.0010\n",
            "Epoch 9/75\n",
            "157/157 [==============================] - 10s 66ms/step - loss: 0.4919 - accuracy: 0.8275 - val_loss: 0.7492 - val_accuracy: 0.7553 - lr: 5.0000e-04\n",
            "Epoch 10/75\n",
            "157/157 [==============================] - 10s 66ms/step - loss: 0.4612 - accuracy: 0.8361 - val_loss: 0.6183 - val_accuracy: 0.7881 - lr: 5.0000e-04\n",
            "Epoch 11/75\n",
            "157/157 [==============================] - 10s 66ms/step - loss: 0.4349 - accuracy: 0.8466 - val_loss: 0.6203 - val_accuracy: 0.7901 - lr: 5.0000e-04\n",
            "Epoch 12/75\n",
            "157/157 [==============================] - 10s 66ms/step - loss: 0.4108 - accuracy: 0.8545 - val_loss: 0.7392 - val_accuracy: 0.7582 - lr: 5.0000e-04\n",
            "Epoch 13/75\n",
            "157/157 [==============================] - 10s 66ms/step - loss: 0.3988 - accuracy: 0.8586 - val_loss: 0.5657 - val_accuracy: 0.8079 - lr: 5.0000e-04\n",
            "Epoch 14/75\n",
            "157/157 [==============================] - 10s 66ms/step - loss: 0.3767 - accuracy: 0.8659 - val_loss: 0.7260 - val_accuracy: 0.7724 - lr: 5.0000e-04\n",
            "Epoch 15/75\n",
            "157/157 [==============================] - 10s 66ms/step - loss: 0.3601 - accuracy: 0.8733 - val_loss: 0.5536 - val_accuracy: 0.8154 - lr: 5.0000e-04\n",
            "Epoch 16/75\n",
            "157/157 [==============================] - 10s 66ms/step - loss: 0.3446 - accuracy: 0.8768 - val_loss: 0.7762 - val_accuracy: 0.7630 - lr: 5.0000e-04\n",
            "Epoch 17/75\n",
            "157/157 [==============================] - 10s 66ms/step - loss: 0.3293 - accuracy: 0.8817 - val_loss: 0.6612 - val_accuracy: 0.7925 - lr: 5.0000e-04\n",
            "Epoch 18/75\n",
            "156/157 [============================>.] - ETA: 0s - loss: 0.3146 - accuracy: 0.8880\n",
            "Epoch 00018: ReduceLROnPlateau reducing learning rate to 0.0002500000118743628.\n",
            "157/157 [==============================] - 10s 66ms/step - loss: 0.3147 - accuracy: 0.8880 - val_loss: 0.6297 - val_accuracy: 0.7965 - lr: 5.0000e-04\n",
            "Epoch 19/75\n",
            "157/157 [==============================] - 10s 66ms/step - loss: 0.2670 - accuracy: 0.9071 - val_loss: 0.5421 - val_accuracy: 0.8218 - lr: 2.5000e-04\n",
            "Epoch 20/75\n",
            "157/157 [==============================] - 10s 66ms/step - loss: 0.2591 - accuracy: 0.9099 - val_loss: 0.5870 - val_accuracy: 0.8096 - lr: 2.5000e-04\n",
            "Epoch 21/75\n",
            "157/157 [==============================] - 10s 66ms/step - loss: 0.2484 - accuracy: 0.9125 - val_loss: 0.5130 - val_accuracy: 0.8340 - lr: 2.5000e-04\n",
            "Epoch 22/75\n",
            "157/157 [==============================] - 10s 66ms/step - loss: 0.2380 - accuracy: 0.9149 - val_loss: 0.5099 - val_accuracy: 0.8362 - lr: 2.5000e-04\n",
            "Epoch 23/75\n",
            "157/157 [==============================] - 10s 66ms/step - loss: 0.2327 - accuracy: 0.9185 - val_loss: 0.5359 - val_accuracy: 0.8319 - lr: 2.5000e-04\n",
            "Epoch 24/75\n",
            "157/157 [==============================] - 10s 66ms/step - loss: 0.2282 - accuracy: 0.9191 - val_loss: 0.5104 - val_accuracy: 0.8348 - lr: 2.5000e-04\n",
            "Epoch 25/75\n",
            "156/157 [============================>.] - ETA: 0s - loss: 0.2226 - accuracy: 0.9223\n",
            "Epoch 00025: ReduceLROnPlateau reducing learning rate to 0.0001250000059371814.\n",
            "157/157 [==============================] - 10s 66ms/step - loss: 0.2227 - accuracy: 0.9223 - val_loss: 0.5198 - val_accuracy: 0.8338 - lr: 2.5000e-04\n",
            "Epoch 26/75\n",
            "157/157 [==============================] - 11s 67ms/step - loss: 0.2038 - accuracy: 0.9277 - val_loss: 0.4791 - val_accuracy: 0.8472 - lr: 1.2500e-04\n",
            "Epoch 27/75\n",
            "157/157 [==============================] - 10s 66ms/step - loss: 0.1963 - accuracy: 0.9309 - val_loss: 0.5093 - val_accuracy: 0.8417 - lr: 1.2500e-04\n",
            "Epoch 28/75\n",
            "157/157 [==============================] - 10s 66ms/step - loss: 0.1956 - accuracy: 0.9310 - val_loss: 0.5020 - val_accuracy: 0.8412 - lr: 1.2500e-04\n",
            "Epoch 29/75\n",
            "156/157 [============================>.] - ETA: 0s - loss: 0.1859 - accuracy: 0.9353\n",
            "Epoch 00029: ReduceLROnPlateau reducing learning rate to 6.25000029685907e-05.\n",
            "157/157 [==============================] - 10s 66ms/step - loss: 0.1859 - accuracy: 0.9353 - val_loss: 0.5235 - val_accuracy: 0.8409 - lr: 1.2500e-04\n",
            "Epoch 30/75\n",
            "157/157 [==============================] - 10s 66ms/step - loss: 0.1794 - accuracy: 0.9378 - val_loss: 0.4806 - val_accuracy: 0.8499 - lr: 6.2500e-05\n",
            "Epoch 31/75\n",
            "156/157 [============================>.] - ETA: 0s - loss: 0.1773 - accuracy: 0.9388Restoring model weights from the end of the best epoch.\n",
            "157/157 [==============================] - 10s 66ms/step - loss: 0.1775 - accuracy: 0.9387 - val_loss: 0.4958 - val_accuracy: 0.8434 - lr: 6.2500e-05\n",
            "Epoch 00031: early stopping\n"
          ],
          "name": "stdout"
        }
      ]
    },
    {
      "cell_type": "code",
      "metadata": {
        "id": "od3EyjTRo8QD",
        "colab_type": "code",
        "colab": {
          "base_uri": "https://localhost:8080/",
          "height": 34
        },
        "outputId": "9413e818-9b99-4eca-cc7d-6689d9fff358"
      },
      "source": [
        "print(\"accuracy on test set is {} % with RMS Prop optimizer\".format(model.evaluate(x_test, y_cat_test, verbose=0)[1]*100))"
      ],
      "execution_count": 42,
      "outputs": [
        {
          "output_type": "stream",
          "text": [
            "accuracy on test set is 84.2199981212616 % with RMS Prop optimizer\n"
          ],
          "name": "stdout"
        }
      ]
    },
    {
      "cell_type": "markdown",
      "metadata": {
        "id": "kCAzTQrpo8QM",
        "colab_type": "text"
      },
      "source": [
        "## SGD with Momentum"
      ]
    },
    {
      "cell_type": "code",
      "metadata": {
        "id": "aUASBlBOo8QN",
        "colab_type": "code",
        "colab": {}
      },
      "source": [
        "model=build_model()\n",
        "optimizer=tensorflow.keras.optimizers.SGD(lr=0.01, momentum=0.9, decay=1e-5)\n",
        "early_stopping = EarlyStopping(monitor='val_loss', mode='min', patience=5, restore_best_weights=True, verbose=1)\n",
        "red_lr = tensorflow.keras.callbacks.ReduceLROnPlateau(monitor='val_loss', mode='min', patience=3, factor=0.5, min_lr=1e-6, verbose=1)\n",
        "model.compile(loss='categorical_crossentropy',optimizer=optimizer,metrics=['accuracy'])"
      ],
      "execution_count": 43,
      "outputs": []
    },
    {
      "cell_type": "code",
      "metadata": {
        "id": "Q_nu1r8eo8Qr",
        "colab_type": "code",
        "colab": {
          "base_uri": "https://localhost:8080/",
          "height": 1000
        },
        "outputId": "5b539b46-5faa-4a48-caeb-6e657640f28b"
      },
      "source": [
        "history_SGDmomentum=model.fit(x_train,y_cat_train,epochs=75,batch_size=256,validation_split=0.2,callbacks=[early_stopping,red_lr]).history"
      ],
      "execution_count": 44,
      "outputs": [
        {
          "output_type": "stream",
          "text": [
            "Epoch 1/75\n",
            "157/157 [==============================] - 10s 64ms/step - loss: 2.0000 - accuracy: 0.3642 - val_loss: 3.3989 - val_accuracy: 0.1043 - lr: 0.0100\n",
            "Epoch 2/75\n",
            "157/157 [==============================] - 10s 63ms/step - loss: 1.3594 - accuracy: 0.5144 - val_loss: 2.6021 - val_accuracy: 0.2044 - lr: 0.0100\n",
            "Epoch 3/75\n",
            "157/157 [==============================] - 10s 62ms/step - loss: 1.1609 - accuracy: 0.5868 - val_loss: 1.3848 - val_accuracy: 0.4997 - lr: 0.0100\n",
            "Epoch 4/75\n",
            "157/157 [==============================] - 10s 62ms/step - loss: 1.0309 - accuracy: 0.6357 - val_loss: 1.2130 - val_accuracy: 0.5625 - lr: 0.0100\n",
            "Epoch 5/75\n",
            "157/157 [==============================] - 10s 62ms/step - loss: 0.9336 - accuracy: 0.6678 - val_loss: 1.0397 - val_accuracy: 0.6356 - lr: 0.0100\n",
            "Epoch 6/75\n",
            "157/157 [==============================] - 10s 62ms/step - loss: 0.8555 - accuracy: 0.6955 - val_loss: 0.9556 - val_accuracy: 0.6639 - lr: 0.0100\n",
            "Epoch 7/75\n",
            "157/157 [==============================] - 10s 62ms/step - loss: 0.7993 - accuracy: 0.7188 - val_loss: 1.1196 - val_accuracy: 0.6470 - lr: 0.0100\n",
            "Epoch 8/75\n",
            "157/157 [==============================] - 10s 62ms/step - loss: 0.7414 - accuracy: 0.7381 - val_loss: 0.8094 - val_accuracy: 0.7160 - lr: 0.0100\n",
            "Epoch 9/75\n",
            "157/157 [==============================] - 10s 63ms/step - loss: 0.6976 - accuracy: 0.7545 - val_loss: 0.7991 - val_accuracy: 0.7238 - lr: 0.0100\n",
            "Epoch 10/75\n",
            "157/157 [==============================] - 10s 62ms/step - loss: 0.6675 - accuracy: 0.7664 - val_loss: 0.7920 - val_accuracy: 0.7298 - lr: 0.0100\n",
            "Epoch 11/75\n",
            "157/157 [==============================] - 10s 63ms/step - loss: 0.6297 - accuracy: 0.7789 - val_loss: 0.7018 - val_accuracy: 0.7564 - lr: 0.0100\n",
            "Epoch 12/75\n",
            "157/157 [==============================] - 10s 62ms/step - loss: 0.6006 - accuracy: 0.7893 - val_loss: 0.7812 - val_accuracy: 0.7408 - lr: 0.0100\n",
            "Epoch 13/75\n",
            "157/157 [==============================] - 10s 62ms/step - loss: 0.5713 - accuracy: 0.7999 - val_loss: 0.6444 - val_accuracy: 0.7774 - lr: 0.0100\n",
            "Epoch 14/75\n",
            "157/157 [==============================] - 10s 62ms/step - loss: 0.5452 - accuracy: 0.8068 - val_loss: 0.7255 - val_accuracy: 0.7616 - lr: 0.0100\n",
            "Epoch 15/75\n",
            "157/157 [==============================] - 10s 62ms/step - loss: 0.5167 - accuracy: 0.8177 - val_loss: 0.6929 - val_accuracy: 0.7688 - lr: 0.0100\n",
            "Epoch 16/75\n",
            "156/157 [============================>.] - ETA: 0s - loss: 0.4997 - accuracy: 0.8246\n",
            "Epoch 00016: ReduceLROnPlateau reducing learning rate to 0.004999999888241291.\n",
            "157/157 [==============================] - 10s 62ms/step - loss: 0.4996 - accuracy: 0.8246 - val_loss: 0.6747 - val_accuracy: 0.7709 - lr: 0.0100\n",
            "Epoch 17/75\n",
            "157/157 [==============================] - 10s 62ms/step - loss: 0.4525 - accuracy: 0.8407 - val_loss: 0.6180 - val_accuracy: 0.7933 - lr: 0.0050\n",
            "Epoch 18/75\n",
            "157/157 [==============================] - 10s 62ms/step - loss: 0.4302 - accuracy: 0.8482 - val_loss: 0.5763 - val_accuracy: 0.8058 - lr: 0.0050\n",
            "Epoch 19/75\n",
            "157/157 [==============================] - 10s 63ms/step - loss: 0.4204 - accuracy: 0.8541 - val_loss: 0.5710 - val_accuracy: 0.8072 - lr: 0.0050\n",
            "Epoch 20/75\n",
            "157/157 [==============================] - 10s 62ms/step - loss: 0.4059 - accuracy: 0.8594 - val_loss: 0.6449 - val_accuracy: 0.7894 - lr: 0.0050\n",
            "Epoch 21/75\n",
            "157/157 [==============================] - 10s 62ms/step - loss: 0.4015 - accuracy: 0.8602 - val_loss: 0.5935 - val_accuracy: 0.8033 - lr: 0.0050\n",
            "Epoch 22/75\n",
            "156/157 [============================>.] - ETA: 0s - loss: 0.3891 - accuracy: 0.8618\n",
            "Epoch 00022: ReduceLROnPlateau reducing learning rate to 0.0024999999441206455.\n",
            "157/157 [==============================] - 10s 62ms/step - loss: 0.3891 - accuracy: 0.8618 - val_loss: 0.6077 - val_accuracy: 0.7968 - lr: 0.0050\n",
            "Epoch 23/75\n",
            "157/157 [==============================] - 10s 62ms/step - loss: 0.3699 - accuracy: 0.8697 - val_loss: 0.5074 - val_accuracy: 0.8329 - lr: 0.0025\n",
            "Epoch 24/75\n",
            "157/157 [==============================] - 10s 63ms/step - loss: 0.3572 - accuracy: 0.8758 - val_loss: 0.5188 - val_accuracy: 0.8263 - lr: 0.0025\n",
            "Epoch 25/75\n",
            "157/157 [==============================] - 10s 62ms/step - loss: 0.3526 - accuracy: 0.8760 - val_loss: 0.5170 - val_accuracy: 0.8288 - lr: 0.0025\n",
            "Epoch 26/75\n",
            "156/157 [============================>.] - ETA: 0s - loss: 0.3468 - accuracy: 0.8785\n",
            "Epoch 00026: ReduceLROnPlateau reducing learning rate to 0.0012499999720603228.\n",
            "157/157 [==============================] - 10s 63ms/step - loss: 0.3467 - accuracy: 0.8784 - val_loss: 0.5174 - val_accuracy: 0.8296 - lr: 0.0025\n",
            "Epoch 27/75\n",
            "157/157 [==============================] - 10s 62ms/step - loss: 0.3347 - accuracy: 0.8824 - val_loss: 0.4988 - val_accuracy: 0.8359 - lr: 0.0012\n",
            "Epoch 28/75\n",
            "157/157 [==============================] - 10s 62ms/step - loss: 0.3293 - accuracy: 0.8876 - val_loss: 0.5062 - val_accuracy: 0.8331 - lr: 0.0012\n",
            "Epoch 29/75\n",
            "157/157 [==============================] - 10s 62ms/step - loss: 0.3235 - accuracy: 0.8856 - val_loss: 0.4963 - val_accuracy: 0.8366 - lr: 0.0012\n",
            "Epoch 30/75\n",
            "157/157 [==============================] - 10s 62ms/step - loss: 0.3222 - accuracy: 0.8878 - val_loss: 0.5031 - val_accuracy: 0.8340 - lr: 0.0012\n",
            "Epoch 31/75\n",
            "157/157 [==============================] - 10s 63ms/step - loss: 0.3213 - accuracy: 0.8878 - val_loss: 0.5040 - val_accuracy: 0.8370 - lr: 0.0012\n",
            "Epoch 32/75\n",
            "156/157 [============================>.] - ETA: 0s - loss: 0.3159 - accuracy: 0.8893\n",
            "Epoch 00032: ReduceLROnPlateau reducing learning rate to 0.0006249999860301614.\n",
            "157/157 [==============================] - 10s 62ms/step - loss: 0.3158 - accuracy: 0.8893 - val_loss: 0.5055 - val_accuracy: 0.8327 - lr: 0.0012\n",
            "Epoch 33/75\n",
            "157/157 [==============================] - 10s 63ms/step - loss: 0.3121 - accuracy: 0.8921 - val_loss: 0.4941 - val_accuracy: 0.8357 - lr: 6.2500e-04\n",
            "Epoch 34/75\n",
            "157/157 [==============================] - 10s 62ms/step - loss: 0.3096 - accuracy: 0.8928 - val_loss: 0.5020 - val_accuracy: 0.8351 - lr: 6.2500e-04\n",
            "Epoch 35/75\n",
            "157/157 [==============================] - 10s 62ms/step - loss: 0.3107 - accuracy: 0.8923 - val_loss: 0.4963 - val_accuracy: 0.8375 - lr: 6.2500e-04\n",
            "Epoch 36/75\n",
            "156/157 [============================>.] - ETA: 0s - loss: 0.3078 - accuracy: 0.8930\n",
            "Epoch 00036: ReduceLROnPlateau reducing learning rate to 0.0003124999930150807.\n",
            "157/157 [==============================] - 10s 63ms/step - loss: 0.3080 - accuracy: 0.8929 - val_loss: 0.4980 - val_accuracy: 0.8361 - lr: 6.2500e-04\n",
            "Epoch 37/75\n",
            "157/157 [==============================] - 10s 62ms/step - loss: 0.3067 - accuracy: 0.8940 - val_loss: 0.4937 - val_accuracy: 0.8387 - lr: 3.1250e-04\n",
            "Epoch 38/75\n",
            "157/157 [==============================] - 10s 62ms/step - loss: 0.3020 - accuracy: 0.8944 - val_loss: 0.4955 - val_accuracy: 0.8399 - lr: 3.1250e-04\n",
            "Epoch 39/75\n",
            "157/157 [==============================] - 10s 63ms/step - loss: 0.3011 - accuracy: 0.8964 - val_loss: 0.4921 - val_accuracy: 0.8410 - lr: 3.1250e-04\n",
            "Epoch 40/75\n",
            "157/157 [==============================] - 10s 62ms/step - loss: 0.3028 - accuracy: 0.8931 - val_loss: 0.5003 - val_accuracy: 0.8388 - lr: 3.1250e-04\n",
            "Epoch 41/75\n",
            "157/157 [==============================] - 10s 62ms/step - loss: 0.3017 - accuracy: 0.8949 - val_loss: 0.4963 - val_accuracy: 0.8383 - lr: 3.1250e-04\n",
            "Epoch 42/75\n",
            "156/157 [============================>.] - ETA: 0s - loss: 0.2996 - accuracy: 0.8964\n",
            "Epoch 00042: ReduceLROnPlateau reducing learning rate to 0.00015624999650754035.\n",
            "157/157 [==============================] - 10s 62ms/step - loss: 0.2995 - accuracy: 0.8964 - val_loss: 0.4947 - val_accuracy: 0.8387 - lr: 3.1250e-04\n",
            "Epoch 43/75\n",
            "157/157 [==============================] - 10s 62ms/step - loss: 0.2970 - accuracy: 0.8969 - val_loss: 0.4962 - val_accuracy: 0.8386 - lr: 1.5625e-04\n",
            "Epoch 44/75\n",
            "156/157 [============================>.] - ETA: 0s - loss: 0.2969 - accuracy: 0.8957Restoring model weights from the end of the best epoch.\n",
            "157/157 [==============================] - 10s 63ms/step - loss: 0.2972 - accuracy: 0.8956 - val_loss: 0.4954 - val_accuracy: 0.8382 - lr: 1.5625e-04\n",
            "Epoch 00044: early stopping\n"
          ],
          "name": "stdout"
        }
      ]
    },
    {
      "cell_type": "code",
      "metadata": {
        "id": "IcTwF7Uxo8Qv",
        "colab_type": "code",
        "colab": {
          "base_uri": "https://localhost:8080/",
          "height": 34
        },
        "outputId": "e115d3b4-d2c5-47bd-d09a-dd64dcf10eb0"
      },
      "source": [
        "print(\"accuracy on test set is  with SGD momentum optimizer {} %\".format(model.evaluate(x_test, y_cat_test, verbose=0)[1]*100))"
      ],
      "execution_count": 45,
      "outputs": [
        {
          "output_type": "stream",
          "text": [
            "accuracy on test set is  with SGD momentum optimizer 82.60999917984009 %\n"
          ],
          "name": "stdout"
        }
      ]
    },
    {
      "cell_type": "markdown",
      "metadata": {
        "id": "bXiUOAJLo8RY",
        "colab_type": "text"
      },
      "source": [
        "## ADA Grad"
      ]
    },
    {
      "cell_type": "code",
      "metadata": {
        "id": "dbfDCdg6o8Ra",
        "colab_type": "code",
        "colab": {}
      },
      "source": [
        "model=build_model()\n",
        "optimizer=tensorflow.keras.optimizers.Adagrad(lr=0.01, epsilon=None, decay=1e-5)\n",
        "early_stopping = EarlyStopping(monitor='val_loss', mode='min', patience=5, restore_best_weights=True, verbose=1)\n",
        "red_lr = tensorflow.keras.callbacks.ReduceLROnPlateau(monitor='val_loss', mode='min', patience=3, factor=0.5, min_lr=1e-6, verbose=1)\n",
        "model.compile(loss='categorical_crossentropy',optimizer=optimizer,metrics=['accuracy'])"
      ],
      "execution_count": 46,
      "outputs": []
    },
    {
      "cell_type": "code",
      "metadata": {
        "id": "y4ARKxeao8R6",
        "colab_type": "code",
        "colab": {
          "base_uri": "https://localhost:8080/",
          "height": 1000
        },
        "outputId": "18f7342d-805b-497d-e664-e2b92fe23c9e"
      },
      "source": [
        "history_ADAgrad=model.fit(x_train,y_cat_train,epochs=75,batch_size=256,validation_split=0.2,callbacks=[early_stopping,red_lr]).history"
      ],
      "execution_count": 47,
      "outputs": [
        {
          "output_type": "stream",
          "text": [
            "Epoch 1/75\n",
            "157/157 [==============================] - 10s 63ms/step - loss: 2.0856 - accuracy: 0.3386 - val_loss: 2.8235 - val_accuracy: 0.1312 - lr: 0.0100\n",
            "Epoch 2/75\n",
            "157/157 [==============================] - 10s 62ms/step - loss: 1.5065 - accuracy: 0.4609 - val_loss: 2.6356 - val_accuracy: 0.1610 - lr: 0.0100\n",
            "Epoch 3/75\n",
            "157/157 [==============================] - 10s 62ms/step - loss: 1.3638 - accuracy: 0.5150 - val_loss: 1.6419 - val_accuracy: 0.4138 - lr: 0.0100\n",
            "Epoch 4/75\n",
            "157/157 [==============================] - 10s 63ms/step - loss: 1.2552 - accuracy: 0.5520 - val_loss: 1.2711 - val_accuracy: 0.5427 - lr: 0.0100\n",
            "Epoch 5/75\n",
            "157/157 [==============================] - 10s 62ms/step - loss: 1.1699 - accuracy: 0.5811 - val_loss: 1.2729 - val_accuracy: 0.5427 - lr: 0.0100\n",
            "Epoch 6/75\n",
            "157/157 [==============================] - 10s 63ms/step - loss: 1.0997 - accuracy: 0.6111 - val_loss: 1.5020 - val_accuracy: 0.4928 - lr: 0.0100\n",
            "Epoch 7/75\n",
            "157/157 [==============================] - 10s 63ms/step - loss: 1.0426 - accuracy: 0.6321 - val_loss: 1.0777 - val_accuracy: 0.6118 - lr: 0.0100\n",
            "Epoch 8/75\n",
            "157/157 [==============================] - 10s 62ms/step - loss: 0.9895 - accuracy: 0.6467 - val_loss: 1.0262 - val_accuracy: 0.6343 - lr: 0.0100\n",
            "Epoch 9/75\n",
            "157/157 [==============================] - 10s 62ms/step - loss: 0.9485 - accuracy: 0.6613 - val_loss: 1.1147 - val_accuracy: 0.6063 - lr: 0.0100\n",
            "Epoch 10/75\n",
            "157/157 [==============================] - 10s 63ms/step - loss: 0.9127 - accuracy: 0.6787 - val_loss: 1.0015 - val_accuracy: 0.6481 - lr: 0.0100\n",
            "Epoch 11/75\n",
            "157/157 [==============================] - 10s 63ms/step - loss: 0.8749 - accuracy: 0.6886 - val_loss: 0.8675 - val_accuracy: 0.6940 - lr: 0.0100\n",
            "Epoch 12/75\n",
            "157/157 [==============================] - 10s 62ms/step - loss: 0.8493 - accuracy: 0.6986 - val_loss: 0.8670 - val_accuracy: 0.6858 - lr: 0.0100\n",
            "Epoch 13/75\n",
            "157/157 [==============================] - 10s 64ms/step - loss: 0.8198 - accuracy: 0.7099 - val_loss: 0.8567 - val_accuracy: 0.6949 - lr: 0.0100\n",
            "Epoch 14/75\n",
            "157/157 [==============================] - 10s 62ms/step - loss: 0.7925 - accuracy: 0.7209 - val_loss: 0.9065 - val_accuracy: 0.6729 - lr: 0.0100\n",
            "Epoch 15/75\n",
            "157/157 [==============================] - 10s 62ms/step - loss: 0.7745 - accuracy: 0.7255 - val_loss: 0.8793 - val_accuracy: 0.6926 - lr: 0.0100\n",
            "Epoch 16/75\n",
            "156/157 [============================>.] - ETA: 0s - loss: 0.7515 - accuracy: 0.7360\n",
            "Epoch 00016: ReduceLROnPlateau reducing learning rate to 0.004999999888241291.\n",
            "157/157 [==============================] - 10s 62ms/step - loss: 0.7513 - accuracy: 0.7361 - val_loss: 1.0554 - val_accuracy: 0.6396 - lr: 0.0100\n",
            "Epoch 17/75\n",
            "157/157 [==============================] - 10s 62ms/step - loss: 0.7205 - accuracy: 0.7449 - val_loss: 0.8394 - val_accuracy: 0.7015 - lr: 0.0050\n",
            "Epoch 18/75\n",
            "157/157 [==============================] - 10s 62ms/step - loss: 0.7118 - accuracy: 0.7505 - val_loss: 0.8124 - val_accuracy: 0.7147 - lr: 0.0050\n",
            "Epoch 19/75\n",
            "157/157 [==============================] - 10s 62ms/step - loss: 0.7017 - accuracy: 0.7516 - val_loss: 0.7520 - val_accuracy: 0.7336 - lr: 0.0050\n",
            "Epoch 20/75\n",
            "157/157 [==============================] - 10s 63ms/step - loss: 0.6897 - accuracy: 0.7569 - val_loss: 0.7077 - val_accuracy: 0.7474 - lr: 0.0050\n",
            "Epoch 21/75\n",
            "157/157 [==============================] - 10s 62ms/step - loss: 0.6864 - accuracy: 0.7557 - val_loss: 0.7605 - val_accuracy: 0.7352 - lr: 0.0050\n",
            "Epoch 22/75\n",
            "157/157 [==============================] - 10s 63ms/step - loss: 0.6746 - accuracy: 0.7633 - val_loss: 0.7175 - val_accuracy: 0.7471 - lr: 0.0050\n",
            "Epoch 23/75\n",
            "156/157 [============================>.] - ETA: 0s - loss: 0.6681 - accuracy: 0.7629\n",
            "Epoch 00023: ReduceLROnPlateau reducing learning rate to 0.0024999999441206455.\n",
            "157/157 [==============================] - 10s 62ms/step - loss: 0.6682 - accuracy: 0.7630 - val_loss: 0.7674 - val_accuracy: 0.7288 - lr: 0.0050\n",
            "Epoch 24/75\n",
            "157/157 [==============================] - 10s 62ms/step - loss: 0.6525 - accuracy: 0.7717 - val_loss: 0.6994 - val_accuracy: 0.7543 - lr: 0.0025\n",
            "Epoch 25/75\n",
            "157/157 [==============================] - 10s 62ms/step - loss: 0.6539 - accuracy: 0.7691 - val_loss: 0.7244 - val_accuracy: 0.7434 - lr: 0.0025\n",
            "Epoch 26/75\n",
            "157/157 [==============================] - 10s 62ms/step - loss: 0.6482 - accuracy: 0.7717 - val_loss: 0.6899 - val_accuracy: 0.7550 - lr: 0.0025\n",
            "Epoch 27/75\n",
            "157/157 [==============================] - 10s 62ms/step - loss: 0.6457 - accuracy: 0.7729 - val_loss: 0.7108 - val_accuracy: 0.7477 - lr: 0.0025\n",
            "Epoch 28/75\n",
            "157/157 [==============================] - 10s 62ms/step - loss: 0.6400 - accuracy: 0.7749 - val_loss: 0.6748 - val_accuracy: 0.7617 - lr: 0.0025\n",
            "Epoch 29/75\n",
            "157/157 [==============================] - 10s 62ms/step - loss: 0.6370 - accuracy: 0.7765 - val_loss: 0.6764 - val_accuracy: 0.7600 - lr: 0.0025\n",
            "Epoch 30/75\n",
            "157/157 [==============================] - 10s 63ms/step - loss: 0.6334 - accuracy: 0.7757 - val_loss: 0.6883 - val_accuracy: 0.7546 - lr: 0.0025\n",
            "Epoch 31/75\n",
            "156/157 [============================>.] - ETA: 0s - loss: 0.6314 - accuracy: 0.7771\n",
            "Epoch 00031: ReduceLROnPlateau reducing learning rate to 0.0012499999720603228.\n",
            "157/157 [==============================] - 10s 62ms/step - loss: 0.6317 - accuracy: 0.7770 - val_loss: 0.6909 - val_accuracy: 0.7544 - lr: 0.0025\n",
            "Epoch 32/75\n",
            "157/157 [==============================] - 10s 62ms/step - loss: 0.6280 - accuracy: 0.7777 - val_loss: 0.6724 - val_accuracy: 0.7633 - lr: 0.0012\n",
            "Epoch 33/75\n",
            "157/157 [==============================] - 10s 62ms/step - loss: 0.6280 - accuracy: 0.7802 - val_loss: 0.6871 - val_accuracy: 0.7576 - lr: 0.0012\n",
            "Epoch 34/75\n",
            "157/157 [==============================] - 10s 62ms/step - loss: 0.6273 - accuracy: 0.7792 - val_loss: 0.6755 - val_accuracy: 0.7640 - lr: 0.0012\n",
            "Epoch 35/75\n",
            "156/157 [============================>.] - ETA: 0s - loss: 0.6234 - accuracy: 0.7784\n",
            "Epoch 00035: ReduceLROnPlateau reducing learning rate to 0.0006249999860301614.\n",
            "157/157 [==============================] - 10s 62ms/step - loss: 0.6235 - accuracy: 0.7784 - val_loss: 0.6751 - val_accuracy: 0.7637 - lr: 0.0012\n",
            "Epoch 36/75\n",
            "157/157 [==============================] - 10s 62ms/step - loss: 0.6179 - accuracy: 0.7824 - val_loss: 0.6719 - val_accuracy: 0.7640 - lr: 6.2500e-04\n",
            "Epoch 37/75\n",
            "157/157 [==============================] - 10s 62ms/step - loss: 0.6171 - accuracy: 0.7829 - val_loss: 0.6774 - val_accuracy: 0.7609 - lr: 6.2500e-04\n",
            "Epoch 38/75\n",
            "157/157 [==============================] - 10s 62ms/step - loss: 0.6132 - accuracy: 0.7841 - val_loss: 0.6729 - val_accuracy: 0.7629 - lr: 6.2500e-04\n",
            "Epoch 39/75\n",
            "156/157 [============================>.] - ETA: 0s - loss: 0.6154 - accuracy: 0.7855\n",
            "Epoch 00039: ReduceLROnPlateau reducing learning rate to 0.0003124999930150807.\n",
            "157/157 [==============================] - 10s 62ms/step - loss: 0.6153 - accuracy: 0.7855 - val_loss: 0.6747 - val_accuracy: 0.7626 - lr: 6.2500e-04\n",
            "Epoch 40/75\n",
            "157/157 [==============================] - 10s 63ms/step - loss: 0.6141 - accuracy: 0.7846 - val_loss: 0.6720 - val_accuracy: 0.7634 - lr: 3.1250e-04\n",
            "Epoch 41/75\n",
            "157/157 [==============================] - 10s 62ms/step - loss: 0.6107 - accuracy: 0.7828 - val_loss: 0.6703 - val_accuracy: 0.7639 - lr: 3.1250e-04\n",
            "Epoch 42/75\n",
            "157/157 [==============================] - 10s 62ms/step - loss: 0.6123 - accuracy: 0.7838 - val_loss: 0.6740 - val_accuracy: 0.7622 - lr: 3.1250e-04\n",
            "Epoch 43/75\n",
            "157/157 [==============================] - 10s 62ms/step - loss: 0.6114 - accuracy: 0.7851 - val_loss: 0.6698 - val_accuracy: 0.7644 - lr: 3.1250e-04\n",
            "Epoch 44/75\n",
            "157/157 [==============================] - 10s 63ms/step - loss: 0.6137 - accuracy: 0.7815 - val_loss: 0.6695 - val_accuracy: 0.7650 - lr: 3.1250e-04\n",
            "Epoch 45/75\n",
            "157/157 [==============================] - 10s 63ms/step - loss: 0.6140 - accuracy: 0.7838 - val_loss: 0.6731 - val_accuracy: 0.7628 - lr: 3.1250e-04\n",
            "Epoch 46/75\n",
            "157/157 [==============================] - 10s 62ms/step - loss: 0.6135 - accuracy: 0.7865 - val_loss: 0.6674 - val_accuracy: 0.7645 - lr: 3.1250e-04\n",
            "Epoch 47/75\n",
            "157/157 [==============================] - 10s 62ms/step - loss: 0.6119 - accuracy: 0.7834 - val_loss: 0.6716 - val_accuracy: 0.7633 - lr: 3.1250e-04\n",
            "Epoch 48/75\n",
            "157/157 [==============================] - 10s 62ms/step - loss: 0.6132 - accuracy: 0.7835 - val_loss: 0.6720 - val_accuracy: 0.7629 - lr: 3.1250e-04\n",
            "Epoch 49/75\n",
            "156/157 [============================>.] - ETA: 0s - loss: 0.6114 - accuracy: 0.7842\n",
            "Epoch 00049: ReduceLROnPlateau reducing learning rate to 0.00015624999650754035.\n",
            "157/157 [==============================] - 10s 62ms/step - loss: 0.6117 - accuracy: 0.7841 - val_loss: 0.6705 - val_accuracy: 0.7640 - lr: 3.1250e-04\n",
            "Epoch 50/75\n",
            "157/157 [==============================] - 10s 62ms/step - loss: 0.6133 - accuracy: 0.7844 - val_loss: 0.6709 - val_accuracy: 0.7640 - lr: 1.5625e-04\n",
            "Epoch 51/75\n",
            "156/157 [============================>.] - ETA: 0s - loss: 0.6108 - accuracy: 0.7856Restoring model weights from the end of the best epoch.\n",
            "157/157 [==============================] - 10s 63ms/step - loss: 0.6106 - accuracy: 0.7857 - val_loss: 0.6688 - val_accuracy: 0.7661 - lr: 1.5625e-04\n",
            "Epoch 00051: early stopping\n"
          ],
          "name": "stdout"
        }
      ]
    },
    {
      "cell_type": "code",
      "metadata": {
        "id": "P0qW5EJpo8SH",
        "colab_type": "code",
        "colab": {
          "base_uri": "https://localhost:8080/",
          "height": 34
        },
        "outputId": "2307c55f-7e4c-4329-895a-635ef2af272c"
      },
      "source": [
        "print(\"accuracy on test set with ADA Grad optimizer is {} %\".format(model.evaluate(x_test, y_cat_test, verbose=0)[1]*100))"
      ],
      "execution_count": 48,
      "outputs": [
        {
          "output_type": "stream",
          "text": [
            "accuracy on test set with ADA Grad optimizer is 75.94000101089478 %\n"
          ],
          "name": "stdout"
        }
      ]
    },
    {
      "cell_type": "markdown",
      "metadata": {
        "id": "8h-NSlFio8SK",
        "colab_type": "text"
      },
      "source": [
        "## Visualizing performance of various optimizer "
      ]
    },
    {
      "cell_type": "code",
      "metadata": {
        "id": "w60bAfOUo8SL",
        "colab_type": "code",
        "colab": {
          "base_uri": "https://localhost:8080/",
          "height": 421
        },
        "outputId": "0ee798ee-0e25-47d7-d9e4-bc5084eb55af"
      },
      "source": [
        "plt.figure(figsize=(6,6))\n",
        "plt.plot(history_adam[\"val_loss\"],label=\"validation loss adam\")\n",
        "plt.plot(history_ADAgrad[\"val_loss\"],label=\"validation loss with ADAGrad\")\n",
        "plt.plot(history_RMSprop[\"val_loss\"],label=\"validation loss with RMS prop\")\n",
        "plt.plot(history_SGDmomentum[\"val_loss\"],label=\"validation loss with SGD with momentum\")\n",
        "plt.legend()\n",
        "plt.xlabel(\"Epochs\")\n",
        "plt.ylabel(\"Validation Loss\")\n",
        "plt.title(\"Validation Loss of different optimizers v/s Epochs\")"
      ],
      "execution_count": 49,
      "outputs": [
        {
          "output_type": "execute_result",
          "data": {
            "text/plain": [
              "Text(0.5, 1.0, 'Validation Loss of different optimizers v/s Epochs')"
            ]
          },
          "metadata": {
            "tags": []
          },
          "execution_count": 49
        },
        {
          "output_type": "display_data",
          "data": {
            "image/png": "[encoded data removed]",
            "text/plain": [
              "<Figure size 432x432 with 1 Axes>"
            ]
          },
          "metadata": {
            "tags": [],
            "needs_background": "light"
          }
        }
      ]
    },
    {
      "cell_type": "markdown",
      "metadata": {
        "id": "YjsAoljXo8SS",
        "colab_type": "text"
      },
      "source": [
        "## FINE TUNING WITH ADAM OPTIMIZER"
      ]
    },
    {
      "cell_type": "code",
      "metadata": {
        "id": "E4qmBAGeo8SU",
        "colab_type": "code",
        "colab": {}
      },
      "source": [
        "model=build_model()\n",
        "optimizer=tensorflow.keras.optimizers.Adam(lr=0.001, beta_1=0.9, beta_2=0.999, epsilon=1e-8, decay=1e-5, amsgrad=False)\n",
        "early_stopping = EarlyStopping(monitor='val_loss', mode='min', patience=5, restore_best_weights=True, verbose=1)\n",
        "red_lr = tensorflow.keras.callbacks.ReduceLROnPlateau(monitor='val_loss', mode='min', patience=3, factor=0.5, min_lr=1e-6, verbose=1)\n",
        "model.compile(loss='categorical_crossentropy',optimizer=optimizer,metrics=['accuracy'])"
      ],
      "execution_count": 50,
      "outputs": []
    },
    {
      "cell_type": "code",
      "metadata": {
        "id": "3TyBImr0o8Sa",
        "colab_type": "code",
        "colab": {
          "base_uri": "https://localhost:8080/",
          "height": 991
        },
        "outputId": "6bbf53ab-4b50-4483-d280-d5351c324e77"
      },
      "source": [
        "history_adam_1=model.fit(x_train,y_cat_train,epochs=75,batch_size=128,validation_split=0.2,callbacks=[early_stopping,red_lr]).history"
      ],
      "execution_count": 51,
      "outputs": [
        {
          "output_type": "stream",
          "text": [
            "Epoch 1/75\n",
            "313/313 [==============================] - 12s 37ms/step - loss: 1.5624 - accuracy: 0.4560 - val_loss: 2.4896 - val_accuracy: 0.2207 - lr: 0.0010\n",
            "Epoch 2/75\n",
            "313/313 [==============================] - 11s 37ms/step - loss: 1.0725 - accuracy: 0.6223 - val_loss: 1.4034 - val_accuracy: 0.5280 - lr: 0.0010\n",
            "Epoch 3/75\n",
            "313/313 [==============================] - 11s 37ms/step - loss: 0.8660 - accuracy: 0.6966 - val_loss: 1.4510 - val_accuracy: 0.5874 - lr: 0.0010\n",
            "Epoch 4/75\n",
            "313/313 [==============================] - 11s 37ms/step - loss: 0.7532 - accuracy: 0.7341 - val_loss: 0.7939 - val_accuracy: 0.7256 - lr: 0.0010\n",
            "Epoch 5/75\n",
            "313/313 [==============================] - 11s 37ms/step - loss: 0.6784 - accuracy: 0.7630 - val_loss: 0.8151 - val_accuracy: 0.7287 - lr: 0.0010\n",
            "Epoch 6/75\n",
            "313/313 [==============================] - 12s 37ms/step - loss: 0.6118 - accuracy: 0.7831 - val_loss: 0.6792 - val_accuracy: 0.7591 - lr: 0.0010\n",
            "Epoch 7/75\n",
            "313/313 [==============================] - 11s 37ms/step - loss: 0.5635 - accuracy: 0.8020 - val_loss: 0.9656 - val_accuracy: 0.7041 - lr: 0.0010\n",
            "Epoch 8/75\n",
            "313/313 [==============================] - 11s 37ms/step - loss: 0.5247 - accuracy: 0.8177 - val_loss: 0.8041 - val_accuracy: 0.7285 - lr: 0.0010\n",
            "Epoch 9/75\n",
            "313/313 [==============================] - ETA: 0s - loss: 0.4824 - accuracy: 0.8307\n",
            "Epoch 00009: ReduceLROnPlateau reducing learning rate to 0.0005000000237487257.\n",
            "313/313 [==============================] - 11s 37ms/step - loss: 0.4824 - accuracy: 0.8307 - val_loss: 0.7251 - val_accuracy: 0.7610 - lr: 0.0010\n",
            "Epoch 10/75\n",
            "313/313 [==============================] - 12s 37ms/step - loss: 0.3939 - accuracy: 0.8612 - val_loss: 0.5364 - val_accuracy: 0.8148 - lr: 5.0000e-04\n",
            "Epoch 11/75\n",
            "313/313 [==============================] - 11s 37ms/step - loss: 0.3616 - accuracy: 0.8746 - val_loss: 0.5511 - val_accuracy: 0.8128 - lr: 5.0000e-04\n",
            "Epoch 12/75\n",
            "313/313 [==============================] - 11s 37ms/step - loss: 0.3463 - accuracy: 0.8797 - val_loss: 0.4931 - val_accuracy: 0.8324 - lr: 5.0000e-04\n",
            "Epoch 13/75\n",
            "313/313 [==============================] - 11s 37ms/step - loss: 0.3234 - accuracy: 0.8873 - val_loss: 0.5689 - val_accuracy: 0.8151 - lr: 5.0000e-04\n",
            "Epoch 14/75\n",
            "313/313 [==============================] - 12s 37ms/step - loss: 0.3170 - accuracy: 0.8886 - val_loss: 0.5710 - val_accuracy: 0.8145 - lr: 5.0000e-04\n",
            "Epoch 15/75\n",
            "313/313 [==============================] - ETA: 0s - loss: 0.2994 - accuracy: 0.8939\n",
            "Epoch 00015: ReduceLROnPlateau reducing learning rate to 0.0002500000118743628.\n",
            "313/313 [==============================] - 11s 37ms/step - loss: 0.2994 - accuracy: 0.8939 - val_loss: 0.5666 - val_accuracy: 0.8126 - lr: 5.0000e-04\n",
            "Epoch 16/75\n",
            "313/313 [==============================] - 11s 37ms/step - loss: 0.2473 - accuracy: 0.9145 - val_loss: 0.4994 - val_accuracy: 0.8371 - lr: 2.5000e-04\n",
            "Epoch 17/75\n",
            "313/313 [==============================] - 12s 37ms/step - loss: 0.2307 - accuracy: 0.9209 - val_loss: 0.4845 - val_accuracy: 0.8429 - lr: 2.5000e-04\n",
            "Epoch 18/75\n",
            "313/313 [==============================] - 12s 37ms/step - loss: 0.2216 - accuracy: 0.9221 - val_loss: 0.4684 - val_accuracy: 0.8517 - lr: 2.5000e-04\n",
            "Epoch 19/75\n",
            "313/313 [==============================] - 12s 37ms/step - loss: 0.2104 - accuracy: 0.9274 - val_loss: 0.4736 - val_accuracy: 0.8490 - lr: 2.5000e-04\n",
            "Epoch 20/75\n",
            "313/313 [==============================] - 11s 37ms/step - loss: 0.2042 - accuracy: 0.9283 - val_loss: 0.4561 - val_accuracy: 0.8531 - lr: 2.5000e-04\n",
            "Epoch 21/75\n",
            "313/313 [==============================] - 12s 37ms/step - loss: 0.1921 - accuracy: 0.9322 - val_loss: 0.4929 - val_accuracy: 0.8444 - lr: 2.5000e-04\n",
            "Epoch 22/75\n",
            "313/313 [==============================] - 12s 37ms/step - loss: 0.1881 - accuracy: 0.9342 - val_loss: 0.4755 - val_accuracy: 0.8486 - lr: 2.5000e-04\n",
            "Epoch 23/75\n",
            "313/313 [==============================] - ETA: 0s - loss: 0.1834 - accuracy: 0.9364\n",
            "Epoch 00023: ReduceLROnPlateau reducing learning rate to 0.0001250000059371814.\n",
            "313/313 [==============================] - 11s 37ms/step - loss: 0.1834 - accuracy: 0.9364 - val_loss: 0.4829 - val_accuracy: 0.8482 - lr: 2.5000e-04\n",
            "Epoch 24/75\n",
            "313/313 [==============================] - 12s 37ms/step - loss: 0.1591 - accuracy: 0.9459 - val_loss: 0.4689 - val_accuracy: 0.8529 - lr: 1.2500e-04\n",
            "Epoch 25/75\n",
            "313/313 [==============================] - ETA: 0s - loss: 0.1537 - accuracy: 0.9478Restoring model weights from the end of the best epoch.\n",
            "313/313 [==============================] - 12s 37ms/step - loss: 0.1537 - accuracy: 0.9478 - val_loss: 0.4649 - val_accuracy: 0.8570 - lr: 1.2500e-04\n",
            "Epoch 00025: early stopping\n"
          ],
          "name": "stdout"
        }
      ]
    },
    {
      "cell_type": "code",
      "metadata": {
        "id": "uB8b3oq7o8Sj",
        "colab_type": "code",
        "colab": {
          "base_uri": "https://localhost:8080/",
          "height": 34
        },
        "outputId": "56a3ae2a-50db-4a46-84e8-0d7f77cac143"
      },
      "source": [
        "print(\"accuracy on test set with Adam Optimizer after tuning is {} %\".format(model.evaluate(x_test, y_cat_test, verbose=0)[1]*100))"
      ],
      "execution_count": 52,
      "outputs": [
        {
          "output_type": "stream",
          "text": [
            "accuracy on test set with Adam Optimizer after tuning is 84.74000096321106 %\n"
          ],
          "name": "stdout"
        }
      ]
    },
    {
      "cell_type": "code",
      "metadata": {
        "id": "qCQtj2T5o8S4",
        "colab_type": "code",
        "colab": {
          "base_uri": "https://localhost:8080/",
          "height": 367
        },
        "outputId": "376fd87f-6544-4507-e213-646e9d3a4ac2"
      },
      "source": [
        "plt.figure(figsize=(5,5))\n",
        "plt.plot(history_adam_1[\"val_loss\"],label=\"validation loss\")\n",
        "plt.plot(history_adam_1[\"loss\"],label=\"Train Loss\")\n",
        "\n",
        "plt.legend()\n",
        "plt.xlabel(\"Epochs\")\n",
        "plt.ylabel(\"Validation Loss\")\n",
        "plt.title(\"Loss v/s Epochs\")"
      ],
      "execution_count": 53,
      "outputs": [
        {
          "output_type": "execute_result",
          "data": {
            "text/plain": [
              "Text(0.5, 1.0, 'Loss v/s Epochs')"
            ]
          },
          "metadata": {
            "tags": []
          },
          "execution_count": 53
        },
        {
          "output_type": "display_data",
          "data": {
            "image/png": "[encoded data removed]",
            "text/plain": [
              "<Figure size 360x360 with 1 Axes>"
            ]
          },
          "metadata": {
            "tags": [],
            "needs_background": "light"
          }
        }
      ]
    },
    {
      "cell_type": "code",
      "metadata": {
        "id": "Nb_Try1NG28v",
        "colab_type": "code",
        "colab": {
          "base_uri": "https://localhost:8080/",
          "height": 367
        },
        "outputId": "036fa920-bd84-4d1c-f0ce-c504af061fe0"
      },
      "source": [
        "plt.figure(figsize=(5,5))\n",
        "plt.plot(history_adam_1[\"val_accuracy\"],label=\"validation accuracy\")\n",
        "plt.plot(history_adam_1[\"accuracy\"],label=\"Train accuracy\")\n",
        "plt.legend()\n",
        "plt.xlabel(\"Epochs\")\n",
        "plt.ylabel(\"Validation Loss\")\n",
        "plt.title(\"Loss v/s Epochs\")"
      ],
      "execution_count": 54,
      "outputs": [
        {
          "output_type": "execute_result",
          "data": {
            "text/plain": [
              "Text(0.5, 1.0, 'Loss v/s Epochs')"
            ]
          },
          "metadata": {
            "tags": []
          },
          "execution_count": 54
        },
        {
          "output_type": "display_data",
          "data": {
            "image/png": "[encoded data removed]",
            "text/plain": [
              "<Figure size 360x360 with 1 Axes>"
            ]
          },
          "metadata": {
            "tags": [],
            "needs_background": "light"
          }
        }
      ]
    },
    {
      "cell_type": "code",
      "metadata": {
        "id": "3-eNel8Xo8S_",
        "colab_type": "code",
        "colab": {
          "base_uri": "https://localhost:8080/",
          "height": 668
        },
        "outputId": "13d00c9e-82d1-47b3-ad87-99667b8842d0"
      },
      "source": [
        "predictions=model.predict_classes(x_test)\n",
        "print(confusion_matrix(y_test,predictions))\n",
        "plt.figure(figsize=(12,8))\n",
        "import seaborn as sns\n",
        "sns.heatmap(confusion_matrix(y_test,predictions),annot=True,cmap='viridis')"
      ],
      "execution_count": 55,
      "outputs": [
        {
          "output_type": "stream",
          "text": [
            "[[877  15  34   5   3   1   2   4  36  23]\n",
            " [  8 932   2   2   1   2   1   0  10  42]\n",
            " [ 37   1 791  31  55  37  28   7   7   6]\n",
            " [ 11   2  56 692  43 116  40  15  10  15]\n",
            " [ 11   1  44  28 852  13  16  24   8   3]\n",
            " [  8   2  30 102  36 776  14  26   2   4]\n",
            " [  5   5  41  34  24  11 869   4   4   3]\n",
            " [ 12   0  25  17  38  41   4 855   1   7]\n",
            " [ 31  13   8   0   1   2   0   3 931  11]\n",
            " [ 22  49   2   2   0   1   1   4  20 899]]\n"
          ],
          "name": "stdout"
        },
        {
          "output_type": "execute_result",
          "data": {
            "text/plain": [
              "<matplotlib.axes._subplots.AxesSubplot at 0x7f71a55f5eb8>"
            ]
          },
          "metadata": {
            "tags": []
          },
          "execution_count": 55
        },
        {
          "output_type": "display_data",
          "data": {
            "image/png": "[encoded data removed]",
            "text/plain": [
              "<Figure size 864x576 with 2 Axes>"
            ]
          },
          "metadata": {
            "tags": [],
            "needs_background": "light"
          }
        }
      ]
    },
    {
      "cell_type": "markdown",
      "metadata": {
        "id": "nPpewzcqoBb6",
        "colab_type": "text"
      },
      "source": [
        "# DATA AUGMENTATION"
      ]
    },
    {
      "cell_type": "code",
      "metadata": {
        "id": "yceTfyffwYI4",
        "colab_type": "code",
        "colab": {}
      },
      "source": [
        "from tensorflow.keras.preprocessing.image import ImageDataGenerator\n",
        "from tensorflow.keras.regularizers import l2"
      ],
      "execution_count": 56,
      "outputs": []
    },
    {
      "cell_type": "code",
      "metadata": {
        "id": "9Y58h3gmoADf",
        "colab_type": "code",
        "colab": {}
      },
      "source": [
        "datagen = ImageDataGenerator(rotation_range=25,horizontal_flip=True,width_shift_range=0.2,height_shift_range=0.2)\n",
        "datagen.fit(x_train)"
      ],
      "execution_count": 57,
      "outputs": []
    },
    {
      "cell_type": "code",
      "metadata": {
        "id": "ZWs_b42SlLN0",
        "colab_type": "code",
        "colab": {}
      },
      "source": [
        "model2 = build_model()#model as like before\n",
        "optimizer=tensorflow.keras.optimizers.Adam(lr=0.0010, beta_1=0.9, beta_2=0.999, epsilon=1e-8, decay=0)\n",
        "model.compile(loss='categorical_crossentropy',optimizer=optimizer,metrics=['accuracy'])"
      ],
      "execution_count": 58,
      "outputs": []
    },
    {
      "cell_type": "code",
      "metadata": {
        "id": "TUdY2fKOzMMR",
        "colab_type": "code",
        "colab": {
          "base_uri": "https://localhost:8080/",
          "height": 1000
        },
        "outputId": "772fc686-8c00-44e3-b9c6-e1f502416194"
      },
      "source": [
        "history=model.fit_generator(datagen.flow(x_train,y_cat_train, batch_size=128),\n",
        "                              epochs = 75, validation_data = (x_test,y_cat_test), steps_per_epoch=x_train.shape[0]//128)"
      ],
      "execution_count": 59,
      "outputs": [
        {
          "output_type": "stream",
          "text": [
            "WARNING:tensorflow:From <ipython-input-59-5341ef81713b>:2: Model.fit_generator (from tensorflow.python.keras.engine.training) is deprecated and will be removed in a future version.\n",
            "Instructions for updating:\n",
            "Please use Model.fit, which supports generators.\n",
            "Epoch 1/75\n",
            "390/390 [==============================] - 36s 91ms/step - loss: 0.9372 - accuracy: 0.6833 - val_loss: 0.7066 - val_accuracy: 0.7700\n",
            "Epoch 2/75\n",
            "390/390 [==============================] - 37s 95ms/step - loss: 0.8241 - accuracy: 0.7129 - val_loss: 0.6676 - val_accuracy: 0.7797\n",
            "Epoch 3/75\n",
            "390/390 [==============================] - 37s 95ms/step - loss: 0.7812 - accuracy: 0.7274 - val_loss: 0.8128 - val_accuracy: 0.7327\n",
            "Epoch 4/75\n",
            "390/390 [==============================] - 37s 95ms/step - loss: 0.7566 - accuracy: 0.7362 - val_loss: 0.7514 - val_accuracy: 0.7582\n",
            "Epoch 5/75\n",
            "390/390 [==============================] - 37s 96ms/step - loss: 0.7350 - accuracy: 0.7446 - val_loss: 0.7351 - val_accuracy: 0.7652\n",
            "Epoch 6/75\n",
            "390/390 [==============================] - 38s 97ms/step - loss: 0.7098 - accuracy: 0.7547 - val_loss: 0.8024 - val_accuracy: 0.7424\n",
            "Epoch 7/75\n",
            "390/390 [==============================] - 38s 97ms/step - loss: 0.6934 - accuracy: 0.7575 - val_loss: 0.6890 - val_accuracy: 0.7831\n",
            "Epoch 8/75\n",
            "390/390 [==============================] - 37s 96ms/step - loss: 0.6683 - accuracy: 0.7695 - val_loss: 0.9847 - val_accuracy: 0.7221\n",
            "Epoch 9/75\n",
            "390/390 [==============================] - 38s 96ms/step - loss: 0.6599 - accuracy: 0.7725 - val_loss: 0.6585 - val_accuracy: 0.7890\n",
            "Epoch 10/75\n",
            "390/390 [==============================] - 37s 96ms/step - loss: 0.6483 - accuracy: 0.7752 - val_loss: 0.9134 - val_accuracy: 0.7275\n",
            "Epoch 11/75\n",
            "390/390 [==============================] - 37s 95ms/step - loss: 0.6307 - accuracy: 0.7809 - val_loss: 0.9416 - val_accuracy: 0.7264\n",
            "Epoch 12/75\n",
            "390/390 [==============================] - 37s 95ms/step - loss: 0.6220 - accuracy: 0.7838 - val_loss: 0.5374 - val_accuracy: 0.8163\n",
            "Epoch 13/75\n",
            "390/390 [==============================] - 37s 95ms/step - loss: 0.6102 - accuracy: 0.7889 - val_loss: 0.6712 - val_accuracy: 0.7858\n",
            "Epoch 14/75\n",
            "390/390 [==============================] - 38s 97ms/step - loss: 0.6037 - accuracy: 0.7913 - val_loss: 0.7079 - val_accuracy: 0.7773\n",
            "Epoch 15/75\n",
            "390/390 [==============================] - 38s 98ms/step - loss: 0.5924 - accuracy: 0.7934 - val_loss: 0.7972 - val_accuracy: 0.7509\n",
            "Epoch 16/75\n",
            "390/390 [==============================] - 38s 98ms/step - loss: 0.5831 - accuracy: 0.7996 - val_loss: 0.5667 - val_accuracy: 0.8203\n",
            "Epoch 17/75\n",
            "390/390 [==============================] - 38s 98ms/step - loss: 0.5760 - accuracy: 0.7993 - val_loss: 0.4984 - val_accuracy: 0.8347\n",
            "Epoch 18/75\n",
            "390/390 [==============================] - 38s 98ms/step - loss: 0.5689 - accuracy: 0.8030 - val_loss: 0.5534 - val_accuracy: 0.8162\n",
            "Epoch 19/75\n",
            "390/390 [==============================] - 38s 98ms/step - loss: 0.5559 - accuracy: 0.8069 - val_loss: 0.7720 - val_accuracy: 0.7833\n",
            "Epoch 20/75\n",
            "390/390 [==============================] - 38s 98ms/step - loss: 0.5567 - accuracy: 0.8082 - val_loss: 0.5302 - val_accuracy: 0.8310\n",
            "Epoch 21/75\n",
            "390/390 [==============================] - 38s 98ms/step - loss: 0.5470 - accuracy: 0.8109 - val_loss: 0.5705 - val_accuracy: 0.8156\n",
            "Epoch 22/75\n",
            "390/390 [==============================] - 38s 98ms/step - loss: 0.5449 - accuracy: 0.8115 - val_loss: 0.4788 - val_accuracy: 0.8466\n",
            "Epoch 23/75\n",
            "390/390 [==============================] - 39s 99ms/step - loss: 0.5338 - accuracy: 0.8149 - val_loss: 0.6286 - val_accuracy: 0.8088\n",
            "Epoch 24/75\n",
            "390/390 [==============================] - 39s 99ms/step - loss: 0.5317 - accuracy: 0.8151 - val_loss: 0.5960 - val_accuracy: 0.8110\n",
            "Epoch 25/75\n",
            "390/390 [==============================] - 38s 98ms/step - loss: 0.5260 - accuracy: 0.8171 - val_loss: 0.5522 - val_accuracy: 0.8234\n",
            "Epoch 26/75\n",
            "390/390 [==============================] - 38s 98ms/step - loss: 0.5238 - accuracy: 0.8207 - val_loss: 0.4877 - val_accuracy: 0.8421\n",
            "Epoch 27/75\n",
            "390/390 [==============================] - 38s 98ms/step - loss: 0.5152 - accuracy: 0.8217 - val_loss: 0.5130 - val_accuracy: 0.8376\n",
            "Epoch 28/75\n",
            "390/390 [==============================] - 38s 97ms/step - loss: 0.5105 - accuracy: 0.8227 - val_loss: 0.5897 - val_accuracy: 0.8183\n",
            "Epoch 29/75\n",
            "390/390 [==============================] - 38s 97ms/step - loss: 0.5046 - accuracy: 0.8245 - val_loss: 0.5523 - val_accuracy: 0.8282\n",
            "Epoch 30/75\n",
            "390/390 [==============================] - 38s 97ms/step - loss: 0.4990 - accuracy: 0.8266 - val_loss: 0.5462 - val_accuracy: 0.8321\n",
            "Epoch 31/75\n",
            "390/390 [==============================] - 37s 96ms/step - loss: 0.4961 - accuracy: 0.8266 - val_loss: 0.4896 - val_accuracy: 0.8467\n",
            "Epoch 32/75\n",
            "390/390 [==============================] - 38s 97ms/step - loss: 0.4963 - accuracy: 0.8283 - val_loss: 0.6123 - val_accuracy: 0.8042\n",
            "Epoch 33/75\n",
            "390/390 [==============================] - 38s 97ms/step - loss: 0.4923 - accuracy: 0.8297 - val_loss: 0.4984 - val_accuracy: 0.8425\n",
            "Epoch 34/75\n",
            "390/390 [==============================] - 38s 96ms/step - loss: 0.4868 - accuracy: 0.8316 - val_loss: 0.5339 - val_accuracy: 0.8324\n",
            "Epoch 35/75\n",
            "390/390 [==============================] - 38s 97ms/step - loss: 0.4850 - accuracy: 0.8309 - val_loss: 0.5861 - val_accuracy: 0.8162\n",
            "Epoch 36/75\n",
            "390/390 [==============================] - 38s 97ms/step - loss: 0.4805 - accuracy: 0.8332 - val_loss: 0.5871 - val_accuracy: 0.8198\n",
            "Epoch 37/75\n",
            "390/390 [==============================] - 38s 97ms/step - loss: 0.4719 - accuracy: 0.8381 - val_loss: 0.5762 - val_accuracy: 0.8281\n",
            "Epoch 38/75\n",
            "390/390 [==============================] - 38s 98ms/step - loss: 0.4691 - accuracy: 0.8366 - val_loss: 0.4398 - val_accuracy: 0.8629\n",
            "Epoch 39/75\n",
            "390/390 [==============================] - 38s 98ms/step - loss: 0.4691 - accuracy: 0.8370 - val_loss: 0.4954 - val_accuracy: 0.8423\n",
            "Epoch 40/75\n",
            "390/390 [==============================] - 38s 97ms/step - loss: 0.4656 - accuracy: 0.8390 - val_loss: 0.5058 - val_accuracy: 0.8441\n",
            "Epoch 41/75\n",
            "390/390 [==============================] - 38s 96ms/step - loss: 0.4607 - accuracy: 0.8405 - val_loss: 0.5204 - val_accuracy: 0.8405\n",
            "Epoch 42/75\n",
            "390/390 [==============================] - 38s 96ms/step - loss: 0.4580 - accuracy: 0.8407 - val_loss: 0.5302 - val_accuracy: 0.8380\n",
            "Epoch 43/75\n",
            "390/390 [==============================] - 37s 96ms/step - loss: 0.4565 - accuracy: 0.8410 - val_loss: 0.5057 - val_accuracy: 0.8485\n",
            "Epoch 44/75\n",
            "390/390 [==============================] - 37s 96ms/step - loss: 0.4519 - accuracy: 0.8433 - val_loss: 0.6296 - val_accuracy: 0.8180\n",
            "Epoch 45/75\n",
            "390/390 [==============================] - 37s 96ms/step - loss: 0.4525 - accuracy: 0.8419 - val_loss: 0.6036 - val_accuracy: 0.8199\n",
            "Epoch 46/75\n",
            "390/390 [==============================] - 37s 95ms/step - loss: 0.4495 - accuracy: 0.8439 - val_loss: 0.4949 - val_accuracy: 0.8472\n",
            "Epoch 47/75\n",
            "390/390 [==============================] - 37s 95ms/step - loss: 0.4482 - accuracy: 0.8439 - val_loss: 0.6314 - val_accuracy: 0.8107\n",
            "Epoch 48/75\n",
            "390/390 [==============================] - 37s 96ms/step - loss: 0.4462 - accuracy: 0.8444 - val_loss: 0.5242 - val_accuracy: 0.8406\n",
            "Epoch 49/75\n",
            "390/390 [==============================] - 37s 95ms/step - loss: 0.4426 - accuracy: 0.8469 - val_loss: 0.5766 - val_accuracy: 0.8237\n",
            "Epoch 50/75\n",
            "390/390 [==============================] - 37s 95ms/step - loss: 0.4323 - accuracy: 0.8497 - val_loss: 0.6101 - val_accuracy: 0.8269\n",
            "Epoch 51/75\n",
            "390/390 [==============================] - 37s 94ms/step - loss: 0.4358 - accuracy: 0.8474 - val_loss: 0.4760 - val_accuracy: 0.8537\n",
            "Epoch 52/75\n",
            "390/390 [==============================] - 37s 94ms/step - loss: 0.4384 - accuracy: 0.8483 - val_loss: 0.4593 - val_accuracy: 0.8575\n",
            "Epoch 53/75\n",
            "390/390 [==============================] - 37s 94ms/step - loss: 0.4340 - accuracy: 0.8505 - val_loss: 0.6041 - val_accuracy: 0.8232\n",
            "Epoch 54/75\n",
            "390/390 [==============================] - 37s 94ms/step - loss: 0.4279 - accuracy: 0.8490 - val_loss: 0.5175 - val_accuracy: 0.8435\n",
            "Epoch 55/75\n",
            "390/390 [==============================] - 37s 95ms/step - loss: 0.4290 - accuracy: 0.8511 - val_loss: 0.8331 - val_accuracy: 0.7843\n",
            "Epoch 56/75\n",
            "390/390 [==============================] - 38s 97ms/step - loss: 0.4276 - accuracy: 0.8529 - val_loss: 0.5640 - val_accuracy: 0.8376\n",
            "Epoch 57/75\n",
            "390/390 [==============================] - 39s 100ms/step - loss: 0.4257 - accuracy: 0.8522 - val_loss: 0.5489 - val_accuracy: 0.8391\n",
            "Epoch 58/75\n",
            "390/390 [==============================] - 37s 96ms/step - loss: 0.4261 - accuracy: 0.8515 - val_loss: 0.5552 - val_accuracy: 0.8419\n",
            "Epoch 59/75\n",
            "390/390 [==============================] - 37s 96ms/step - loss: 0.4138 - accuracy: 0.8554 - val_loss: 0.5395 - val_accuracy: 0.8401\n",
            "Epoch 60/75\n",
            "390/390 [==============================] - 38s 96ms/step - loss: 0.4198 - accuracy: 0.8538 - val_loss: 0.4308 - val_accuracy: 0.8628\n",
            "Epoch 61/75\n",
            "390/390 [==============================] - 38s 97ms/step - loss: 0.4201 - accuracy: 0.8532 - val_loss: 0.6719 - val_accuracy: 0.8053\n",
            "Epoch 62/75\n",
            "390/390 [==============================] - 39s 99ms/step - loss: 0.4181 - accuracy: 0.8550 - val_loss: 0.5054 - val_accuracy: 0.8441\n",
            "Epoch 63/75\n",
            "390/390 [==============================] - 38s 98ms/step - loss: 0.4117 - accuracy: 0.8563 - val_loss: 0.4429 - val_accuracy: 0.8651\n",
            "Epoch 64/75\n",
            "390/390 [==============================] - 38s 98ms/step - loss: 0.4132 - accuracy: 0.8559 - val_loss: 0.4082 - val_accuracy: 0.8728\n",
            "Epoch 65/75\n",
            "390/390 [==============================] - 39s 99ms/step - loss: 0.4167 - accuracy: 0.8541 - val_loss: 0.5605 - val_accuracy: 0.8353\n",
            "Epoch 66/75\n",
            "390/390 [==============================] - 39s 100ms/step - loss: 0.4093 - accuracy: 0.8578 - val_loss: 0.4499 - val_accuracy: 0.8578\n",
            "Epoch 67/75\n",
            "390/390 [==============================] - 39s 100ms/step - loss: 0.4113 - accuracy: 0.8583 - val_loss: 0.4684 - val_accuracy: 0.8543\n",
            "Epoch 68/75\n",
            "390/390 [==============================] - 39s 100ms/step - loss: 0.4089 - accuracy: 0.8567 - val_loss: 0.4345 - val_accuracy: 0.8639\n",
            "Epoch 69/75\n",
            "390/390 [==============================] - 39s 100ms/step - loss: 0.4051 - accuracy: 0.8582 - val_loss: 0.5574 - val_accuracy: 0.8348\n",
            "Epoch 70/75\n",
            "390/390 [==============================] - 38s 98ms/step - loss: 0.4100 - accuracy: 0.8569 - val_loss: 0.5111 - val_accuracy: 0.8513\n",
            "Epoch 71/75\n",
            "390/390 [==============================] - 38s 99ms/step - loss: 0.4027 - accuracy: 0.8615 - val_loss: 0.4854 - val_accuracy: 0.8463\n",
            "Epoch 72/75\n",
            "390/390 [==============================] - 39s 99ms/step - loss: 0.4026 - accuracy: 0.8603 - val_loss: 0.5314 - val_accuracy: 0.8442\n",
            "Epoch 73/75\n",
            "390/390 [==============================] - 39s 100ms/step - loss: 0.4003 - accuracy: 0.8610 - val_loss: 0.5385 - val_accuracy: 0.8346\n",
            "Epoch 74/75\n",
            "390/390 [==============================] - 39s 99ms/step - loss: 0.3988 - accuracy: 0.8617 - val_loss: 0.4673 - val_accuracy: 0.8594\n",
            "Epoch 75/75\n",
            "390/390 [==============================] - 39s 99ms/step - loss: 0.3945 - accuracy: 0.8615 - val_loss: 0.4937 - val_accuracy: 0.8514\n"
          ],
          "name": "stdout"
        }
      ]
    },
    {
      "cell_type": "code",
      "metadata": {
        "id": "ozEpZGPHd1lg",
        "colab_type": "code",
        "colab": {
          "base_uri": "https://localhost:8080/",
          "height": 34
        },
        "outputId": "87b476b2-6788-4ec2-fd98-7e7e9e40f8e6"
      },
      "source": [
        "print(\"accuracy on test set after Data augmentation is {} %\".format(model.evaluate(x_test, y_cat_test,batch_size=128,verbose=0)[1]*100))"
      ],
      "execution_count": 60,
      "outputs": [
        {
          "output_type": "stream",
          "text": [
            "accuracy on test set after Data augmentation is 85.14000177383423 %\n"
          ],
          "name": "stdout"
        }
      ]
    },
    {
      "cell_type": "code",
      "metadata": {
        "id": "yLPsBf-735Kp",
        "colab_type": "code",
        "colab": {
          "base_uri": "https://localhost:8080/",
          "height": 295
        },
        "outputId": "2cadf833-6ebb-44fa-b754-1b1236872321"
      },
      "source": [
        "plt.plot(history.history['accuracy'])\n",
        "plt.plot(history.history['val_accuracy'])\n",
        "plt.title('model accuracy')\n",
        "plt.ylabel('accuracy')\n",
        "plt.xlabel('epoch')\n",
        "plt.legend(['train', 'test'], loc='upper left')\n",
        "plt.show()"
      ],
      "execution_count": 61,
      "outputs": [
        {
          "output_type": "display_data",
          "data": {
            "image/png": "[encoded data removed]",
            "text/plain": [
              "<Figure size 432x288 with 1 Axes>"
            ]
          },
          "metadata": {
            "tags": [],
            "needs_background": "light"
          }
        }
      ]
    },
    {
      "cell_type": "code",
      "metadata": {
        "id": "gpBigO3Vgy47",
        "colab_type": "code",
        "colab": {}
      },
      "source": [
        "model2 = Sequential()\n",
        "reg2=None\n",
        "#1st set of layer\n",
        "model2.add(tensorflow.keras.layers.Conv2D(32, (3, 3), activation='relu',kernel_regularizer=reg2,input_shape=(32,32,3),padding='same'))\n",
        "model2.add(tensorflow.keras.layers.BatchNormalization(axis=-1))\n",
        "model2.add(tensorflow.keras.layers.Conv2D(32, (3, 3), activation='relu',kernel_regularizer=reg2,padding='same'))\n",
        "model2.add(tensorflow.keras.layers.BatchNormalization(axis=-1))\n",
        "model2.add(tensorflow.keras.layers.MaxPooling2D(pool_size=(2, 2)))  \n",
        "model2.add(tensorflow.keras.layers.Dropout(0))\n",
        "\n",
        "#2nd set of layer\n",
        "model2.add(tensorflow.keras.layers.Conv2D(64, (3, 3), activation='relu',kernel_regularizer=reg2,input_shape=(32,32,3),padding='same'))\n",
        "model2.add(tensorflow.keras.layers.BatchNormalization(axis=-1))\n",
        "model2.add(tensorflow.keras.layers.Conv2D(64, (3, 3), activation='relu',kernel_regularizer=reg2,padding='same'))\n",
        "model2.add(tensorflow.keras.layers.BatchNormalization(axis=-1))\n",
        "model2.add(tensorflow.keras.layers.MaxPooling2D(pool_size=(2, 2)))  \n",
        "model2.add(tensorflow.keras.layers.Dropout(0))\n",
        "\n",
        "#3rd set of layer\n",
        "model2.add(tensorflow.keras.layers.Conv2D(128, (3, 3), activation='relu',kernel_regularizer=reg2,input_shape=(32,32,3),padding='same'))\n",
        "model2.add(tensorflow.keras.layers.BatchNormalization(axis=-1))\n",
        "model2.add(tensorflow.keras.layers.Conv2D(128, (3, 3), activation='relu',kernel_regularizer=reg2,padding='same'))\n",
        "model2.add(tensorflow.keras.layers.BatchNormalization(axis=-1))\n",
        "model2.add(tensorflow.keras.layers.MaxPooling2D(pool_size=(2, 2)))  \n",
        "model2.add(tensorflow.keras.layers.Dropout(0))\n",
        "\n",
        "#flatten and output layer\n",
        "model2.add(Flatten())\n",
        "model2.add(tensorflow.keras.layers.Dense(512, activation='relu',kernel_regularizer=reg2))\n",
        "model2.add(tensorflow.keras.layers.BatchNormalization())\n",
        "model2.add(tensorflow.keras.layers.Dropout(.5))\n",
        "model2.add(tensorflow.keras.layers.Dense(10, activation='softmax'))\n",
        "#adam optimizer\n",
        "optimizer=tensorflow.keras.optimizers.Adam(lr=0.0010, beta_1=0.9, beta_2=0.999, epsilon=1e-8, decay=0)\n",
        "#model compile\n",
        "model2.compile(loss='categorical_crossentropy',optimizer=optimizer,metrics=['accuracy'])"
      ],
      "execution_count": 62,
      "outputs": []
    },
    {
      "cell_type": "code",
      "metadata": {
        "id": "3cGiSs_IgzRA",
        "colab_type": "code",
        "colab": {
          "base_uri": "https://localhost:8080/",
          "height": 1000
        },
        "outputId": "aadbe310-de7d-45b1-8df6-0e02ee314f56"
      },
      "source": [
        "history2=model2.fit_generator(datagen.flow(x_train,y_cat_train, batch_size=128),\n",
        "                              epochs = 100, validation_data = (x_test,y_cat_test), steps_per_epoch=x_train.shape[0]//128)"
      ],
      "execution_count": 63,
      "outputs": [
        {
          "output_type": "stream",
          "text": [
            "Epoch 1/100\n",
            "390/390 [==============================] - 40s 101ms/step - loss: 1.8188 - accuracy: 0.4028 - val_loss: 2.5488 - val_accuracy: 0.2438\n",
            "Epoch 2/100\n",
            "390/390 [==============================] - 39s 99ms/step - loss: 1.3327 - accuracy: 0.5349 - val_loss: 1.0238 - val_accuracy: 0.6348\n",
            "Epoch 3/100\n",
            "390/390 [==============================] - 39s 100ms/step - loss: 1.1000 - accuracy: 0.6105 - val_loss: 1.1287 - val_accuracy: 0.6329\n",
            "Epoch 4/100\n",
            "390/390 [==============================] - 39s 99ms/step - loss: 0.9727 - accuracy: 0.6566 - val_loss: 0.9500 - val_accuracy: 0.6834\n",
            "Epoch 5/100\n",
            "390/390 [==============================] - 39s 100ms/step - loss: 0.8814 - accuracy: 0.6905 - val_loss: 1.1262 - val_accuracy: 0.6557\n",
            "Epoch 6/100\n",
            "390/390 [==============================] - 39s 100ms/step - loss: 0.8152 - accuracy: 0.7176 - val_loss: 0.7119 - val_accuracy: 0.7619\n",
            "Epoch 7/100\n",
            "390/390 [==============================] - 39s 100ms/step - loss: 0.7698 - accuracy: 0.7334 - val_loss: 0.8045 - val_accuracy: 0.7413\n",
            "Epoch 8/100\n",
            "390/390 [==============================] - 39s 100ms/step - loss: 0.7329 - accuracy: 0.7470 - val_loss: 0.7088 - val_accuracy: 0.7639\n",
            "Epoch 9/100\n",
            "390/390 [==============================] - 39s 100ms/step - loss: 0.6912 - accuracy: 0.7621 - val_loss: 0.8116 - val_accuracy: 0.7412\n",
            "Epoch 10/100\n",
            "390/390 [==============================] - 39s 100ms/step - loss: 0.6642 - accuracy: 0.7704 - val_loss: 0.7062 - val_accuracy: 0.7745\n",
            "Epoch 11/100\n",
            "390/390 [==============================] - 39s 100ms/step - loss: 0.6386 - accuracy: 0.7781 - val_loss: 0.6919 - val_accuracy: 0.7716\n",
            "Epoch 12/100\n",
            "390/390 [==============================] - 39s 100ms/step - loss: 0.6237 - accuracy: 0.7866 - val_loss: 0.6004 - val_accuracy: 0.7979\n",
            "Epoch 13/100\n",
            "390/390 [==============================] - 39s 99ms/step - loss: 0.5991 - accuracy: 0.7931 - val_loss: 0.5693 - val_accuracy: 0.8098\n",
            "Epoch 14/100\n",
            "390/390 [==============================] - 39s 99ms/step - loss: 0.5808 - accuracy: 0.7992 - val_loss: 0.6596 - val_accuracy: 0.7858\n",
            "Epoch 15/100\n",
            "390/390 [==============================] - 38s 98ms/step - loss: 0.5728 - accuracy: 0.7999 - val_loss: 0.5836 - val_accuracy: 0.8078\n",
            "Epoch 16/100\n",
            "390/390 [==============================] - 38s 99ms/step - loss: 0.5481 - accuracy: 0.8120 - val_loss: 0.6325 - val_accuracy: 0.7943\n",
            "Epoch 17/100\n",
            "390/390 [==============================] - 38s 98ms/step - loss: 0.5364 - accuracy: 0.8161 - val_loss: 0.5273 - val_accuracy: 0.8248\n",
            "Epoch 18/100\n",
            "390/390 [==============================] - 39s 99ms/step - loss: 0.5282 - accuracy: 0.8176 - val_loss: 0.5640 - val_accuracy: 0.8100\n",
            "Epoch 19/100\n",
            "390/390 [==============================] - 38s 98ms/step - loss: 0.5147 - accuracy: 0.8217 - val_loss: 0.5919 - val_accuracy: 0.8038\n",
            "Epoch 20/100\n",
            "390/390 [==============================] - 38s 98ms/step - loss: 0.5040 - accuracy: 0.8284 - val_loss: 0.5644 - val_accuracy: 0.8141\n",
            "Epoch 21/100\n",
            "390/390 [==============================] - 38s 98ms/step - loss: 0.4930 - accuracy: 0.8300 - val_loss: 0.5902 - val_accuracy: 0.8064\n",
            "Epoch 22/100\n",
            "390/390 [==============================] - 39s 99ms/step - loss: 0.4806 - accuracy: 0.8334 - val_loss: 0.4605 - val_accuracy: 0.8428\n",
            "Epoch 23/100\n",
            "390/390 [==============================] - 38s 99ms/step - loss: 0.4765 - accuracy: 0.8337 - val_loss: 0.4971 - val_accuracy: 0.8336\n",
            "Epoch 24/100\n",
            "390/390 [==============================] - 38s 99ms/step - loss: 0.4619 - accuracy: 0.8417 - val_loss: 0.5668 - val_accuracy: 0.8128\n",
            "Epoch 25/100\n",
            "390/390 [==============================] - 38s 98ms/step - loss: 0.4542 - accuracy: 0.8436 - val_loss: 0.5960 - val_accuracy: 0.8066\n",
            "Epoch 26/100\n",
            "390/390 [==============================] - 38s 98ms/step - loss: 0.4489 - accuracy: 0.8452 - val_loss: 0.5203 - val_accuracy: 0.8290\n",
            "Epoch 27/100\n",
            "390/390 [==============================] - 38s 98ms/step - loss: 0.4440 - accuracy: 0.8470 - val_loss: 0.4851 - val_accuracy: 0.8434\n",
            "Epoch 28/100\n",
            "390/390 [==============================] - 38s 98ms/step - loss: 0.4284 - accuracy: 0.8515 - val_loss: 0.5675 - val_accuracy: 0.8227\n",
            "Epoch 29/100\n",
            "390/390 [==============================] - 39s 100ms/step - loss: 0.4250 - accuracy: 0.8531 - val_loss: 0.5136 - val_accuracy: 0.8311\n",
            "Epoch 30/100\n",
            "390/390 [==============================] - 39s 100ms/step - loss: 0.4204 - accuracy: 0.8550 - val_loss: 0.6049 - val_accuracy: 0.8072\n",
            "Epoch 31/100\n",
            "390/390 [==============================] - 39s 101ms/step - loss: 0.4115 - accuracy: 0.8594 - val_loss: 0.4534 - val_accuracy: 0.8504\n",
            "Epoch 32/100\n",
            "390/390 [==============================] - 40s 102ms/step - loss: 0.4032 - accuracy: 0.8607 - val_loss: 0.4806 - val_accuracy: 0.8386\n",
            "Epoch 33/100\n",
            "390/390 [==============================] - 40s 102ms/step - loss: 0.4042 - accuracy: 0.8612 - val_loss: 0.4563 - val_accuracy: 0.8456\n",
            "Epoch 34/100\n",
            "390/390 [==============================] - 40s 102ms/step - loss: 0.3948 - accuracy: 0.8615 - val_loss: 0.5036 - val_accuracy: 0.8398\n",
            "Epoch 35/100\n",
            "390/390 [==============================] - 40s 102ms/step - loss: 0.3844 - accuracy: 0.8670 - val_loss: 0.4705 - val_accuracy: 0.8489\n",
            "Epoch 36/100\n",
            "390/390 [==============================] - 40s 102ms/step - loss: 0.3864 - accuracy: 0.8665 - val_loss: 0.4692 - val_accuracy: 0.8458\n",
            "Epoch 37/100\n",
            "390/390 [==============================] - 40s 102ms/step - loss: 0.3835 - accuracy: 0.8670 - val_loss: 0.5346 - val_accuracy: 0.8294\n",
            "Epoch 38/100\n",
            "390/390 [==============================] - 40s 102ms/step - loss: 0.3804 - accuracy: 0.8695 - val_loss: 0.4897 - val_accuracy: 0.8431\n",
            "Epoch 39/100\n",
            "390/390 [==============================] - 40s 101ms/step - loss: 0.3674 - accuracy: 0.8733 - val_loss: 0.4260 - val_accuracy: 0.8591\n",
            "Epoch 40/100\n",
            "390/390 [==============================] - 40s 101ms/step - loss: 0.3740 - accuracy: 0.8710 - val_loss: 0.3950 - val_accuracy: 0.8687\n",
            "Epoch 41/100\n",
            "390/390 [==============================] - 40s 102ms/step - loss: 0.3591 - accuracy: 0.8746 - val_loss: 0.5028 - val_accuracy: 0.8399\n",
            "Epoch 42/100\n",
            "390/390 [==============================] - 39s 101ms/step - loss: 0.3584 - accuracy: 0.8749 - val_loss: 0.4652 - val_accuracy: 0.8517\n",
            "Epoch 43/100\n",
            "390/390 [==============================] - 40s 101ms/step - loss: 0.3593 - accuracy: 0.8749 - val_loss: 0.4492 - val_accuracy: 0.8538\n",
            "Epoch 44/100\n",
            "390/390 [==============================] - 39s 101ms/step - loss: 0.3503 - accuracy: 0.8772 - val_loss: 0.4380 - val_accuracy: 0.8602\n",
            "Epoch 45/100\n",
            "390/390 [==============================] - 40s 102ms/step - loss: 0.3531 - accuracy: 0.8782 - val_loss: 0.4328 - val_accuracy: 0.8615\n",
            "Epoch 46/100\n",
            "390/390 [==============================] - 40s 101ms/step - loss: 0.3400 - accuracy: 0.8815 - val_loss: 0.4450 - val_accuracy: 0.8527\n",
            "Epoch 47/100\n",
            "390/390 [==============================] - 39s 100ms/step - loss: 0.3438 - accuracy: 0.8799 - val_loss: 0.4706 - val_accuracy: 0.8551\n",
            "Epoch 48/100\n",
            "390/390 [==============================] - 39s 101ms/step - loss: 0.3375 - accuracy: 0.8812 - val_loss: 0.4823 - val_accuracy: 0.8445\n",
            "Epoch 49/100\n",
            "390/390 [==============================] - 40s 102ms/step - loss: 0.3357 - accuracy: 0.8835 - val_loss: 0.3915 - val_accuracy: 0.8711\n",
            "Epoch 50/100\n",
            "390/390 [==============================] - 39s 101ms/step - loss: 0.3406 - accuracy: 0.8813 - val_loss: 0.3775 - val_accuracy: 0.8751\n",
            "Epoch 51/100\n",
            "390/390 [==============================] - 39s 101ms/step - loss: 0.3256 - accuracy: 0.8866 - val_loss: 0.3626 - val_accuracy: 0.8758\n",
            "Epoch 52/100\n",
            "390/390 [==============================] - 39s 101ms/step - loss: 0.3258 - accuracy: 0.8872 - val_loss: 0.3791 - val_accuracy: 0.8744\n",
            "Epoch 53/100\n",
            "390/390 [==============================] - 39s 100ms/step - loss: 0.3237 - accuracy: 0.8886 - val_loss: 0.3762 - val_accuracy: 0.8761\n",
            "Epoch 54/100\n",
            "390/390 [==============================] - 39s 101ms/step - loss: 0.3150 - accuracy: 0.8919 - val_loss: 0.4195 - val_accuracy: 0.8672\n",
            "Epoch 55/100\n",
            "390/390 [==============================] - 39s 101ms/step - loss: 0.3217 - accuracy: 0.8890 - val_loss: 0.4393 - val_accuracy: 0.8612\n",
            "Epoch 56/100\n",
            "390/390 [==============================] - 39s 99ms/step - loss: 0.3182 - accuracy: 0.8889 - val_loss: 0.4469 - val_accuracy: 0.8554\n",
            "Epoch 57/100\n",
            "390/390 [==============================] - 38s 99ms/step - loss: 0.3091 - accuracy: 0.8926 - val_loss: 0.4224 - val_accuracy: 0.8631\n",
            "Epoch 58/100\n",
            "390/390 [==============================] - 39s 99ms/step - loss: 0.3101 - accuracy: 0.8916 - val_loss: 0.4489 - val_accuracy: 0.8579\n",
            "Epoch 59/100\n",
            "390/390 [==============================] - 39s 99ms/step - loss: 0.3127 - accuracy: 0.8914 - val_loss: 0.5038 - val_accuracy: 0.8469\n",
            "Epoch 60/100\n",
            "390/390 [==============================] - 39s 100ms/step - loss: 0.3041 - accuracy: 0.8944 - val_loss: 0.3993 - val_accuracy: 0.8710\n",
            "Epoch 61/100\n",
            "390/390 [==============================] - 39s 100ms/step - loss: 0.3025 - accuracy: 0.8952 - val_loss: 0.3903 - val_accuracy: 0.8727\n",
            "Epoch 62/100\n",
            "390/390 [==============================] - 39s 100ms/step - loss: 0.3033 - accuracy: 0.8946 - val_loss: 0.3880 - val_accuracy: 0.8776\n",
            "Epoch 63/100\n",
            "390/390 [==============================] - 39s 100ms/step - loss: 0.2960 - accuracy: 0.8982 - val_loss: 0.4141 - val_accuracy: 0.8710\n",
            "Epoch 64/100\n",
            "390/390 [==============================] - 39s 100ms/step - loss: 0.2993 - accuracy: 0.8968 - val_loss: 0.4300 - val_accuracy: 0.8606\n",
            "Epoch 65/100\n",
            "390/390 [==============================] - 39s 100ms/step - loss: 0.2937 - accuracy: 0.8969 - val_loss: 0.4102 - val_accuracy: 0.8717\n",
            "Epoch 66/100\n",
            "390/390 [==============================] - 39s 100ms/step - loss: 0.2884 - accuracy: 0.9007 - val_loss: 0.4179 - val_accuracy: 0.8688\n",
            "Epoch 67/100\n",
            "390/390 [==============================] - 39s 100ms/step - loss: 0.2899 - accuracy: 0.8983 - val_loss: 0.4383 - val_accuracy: 0.8669\n",
            "Epoch 68/100\n",
            "390/390 [==============================] - 39s 100ms/step - loss: 0.2867 - accuracy: 0.9009 - val_loss: 0.3924 - val_accuracy: 0.8754\n",
            "Epoch 69/100\n",
            "390/390 [==============================] - 39s 100ms/step - loss: 0.2873 - accuracy: 0.8996 - val_loss: 0.4183 - val_accuracy: 0.8649\n",
            "Epoch 70/100\n",
            "390/390 [==============================] - 39s 99ms/step - loss: 0.2841 - accuracy: 0.9027 - val_loss: 0.4178 - val_accuracy: 0.8641\n",
            "Epoch 71/100\n",
            "390/390 [==============================] - 39s 100ms/step - loss: 0.2818 - accuracy: 0.9016 - val_loss: 0.4191 - val_accuracy: 0.8670\n",
            "Epoch 72/100\n",
            "390/390 [==============================] - 39s 100ms/step - loss: 0.2743 - accuracy: 0.9054 - val_loss: 0.4218 - val_accuracy: 0.8662\n",
            "Epoch 73/100\n",
            "390/390 [==============================] - 39s 100ms/step - loss: 0.2796 - accuracy: 0.9021 - val_loss: 0.3820 - val_accuracy: 0.8733\n",
            "Epoch 74/100\n",
            "390/390 [==============================] - 39s 100ms/step - loss: 0.2759 - accuracy: 0.9022 - val_loss: 0.4329 - val_accuracy: 0.8657\n",
            "Epoch 75/100\n",
            "390/390 [==============================] - 39s 100ms/step - loss: 0.2733 - accuracy: 0.9038 - val_loss: 0.4324 - val_accuracy: 0.8680\n",
            "Epoch 76/100\n",
            "390/390 [==============================] - 39s 100ms/step - loss: 0.2715 - accuracy: 0.9063 - val_loss: 0.3791 - val_accuracy: 0.8784\n",
            "Epoch 77/100\n",
            "390/390 [==============================] - 39s 100ms/step - loss: 0.2673 - accuracy: 0.9066 - val_loss: 0.3801 - val_accuracy: 0.8821\n",
            "Epoch 78/100\n",
            "390/390 [==============================] - 39s 100ms/step - loss: 0.2653 - accuracy: 0.9070 - val_loss: 0.4282 - val_accuracy: 0.8682\n",
            "Epoch 79/100\n",
            "390/390 [==============================] - 39s 100ms/step - loss: 0.2639 - accuracy: 0.9088 - val_loss: 0.3861 - val_accuracy: 0.8769\n",
            "Epoch 80/100\n",
            "390/390 [==============================] - 39s 99ms/step - loss: 0.2635 - accuracy: 0.9076 - val_loss: 0.3777 - val_accuracy: 0.8785\n",
            "Epoch 81/100\n",
            "390/390 [==============================] - 39s 100ms/step - loss: 0.2667 - accuracy: 0.9074 - val_loss: 0.3871 - val_accuracy: 0.8759\n",
            "Epoch 82/100\n",
            "390/390 [==============================] - 39s 100ms/step - loss: 0.2606 - accuracy: 0.9103 - val_loss: 0.4188 - val_accuracy: 0.8721\n",
            "Epoch 83/100\n",
            "390/390 [==============================] - 39s 101ms/step - loss: 0.2627 - accuracy: 0.9078 - val_loss: 0.3879 - val_accuracy: 0.8773\n",
            "Epoch 84/100\n",
            "390/390 [==============================] - 39s 101ms/step - loss: 0.2579 - accuracy: 0.9087 - val_loss: 0.4093 - val_accuracy: 0.8705\n",
            "Epoch 85/100\n",
            "390/390 [==============================] - 39s 101ms/step - loss: 0.2520 - accuracy: 0.9124 - val_loss: 0.3800 - val_accuracy: 0.8833\n",
            "Epoch 86/100\n",
            "390/390 [==============================] - 39s 101ms/step - loss: 0.2569 - accuracy: 0.9115 - val_loss: 0.4537 - val_accuracy: 0.8623\n",
            "Epoch 87/100\n",
            "390/390 [==============================] - 39s 101ms/step - loss: 0.2543 - accuracy: 0.9118 - val_loss: 0.4259 - val_accuracy: 0.8737\n",
            "Epoch 88/100\n",
            "390/390 [==============================] - 39s 101ms/step - loss: 0.2542 - accuracy: 0.9117 - val_loss: 0.4036 - val_accuracy: 0.8730\n",
            "Epoch 89/100\n",
            "390/390 [==============================] - 39s 101ms/step - loss: 0.2513 - accuracy: 0.9118 - val_loss: 0.3823 - val_accuracy: 0.8826\n",
            "Epoch 90/100\n",
            "390/390 [==============================] - 39s 101ms/step - loss: 0.2499 - accuracy: 0.9118 - val_loss: 0.3881 - val_accuracy: 0.8796\n",
            "Epoch 91/100\n",
            "390/390 [==============================] - 39s 101ms/step - loss: 0.2457 - accuracy: 0.9127 - val_loss: 0.3950 - val_accuracy: 0.8747\n",
            "Epoch 92/100\n",
            "390/390 [==============================] - 39s 101ms/step - loss: 0.2468 - accuracy: 0.9127 - val_loss: 0.3979 - val_accuracy: 0.8753\n",
            "Epoch 93/100\n",
            "390/390 [==============================] - 39s 101ms/step - loss: 0.2496 - accuracy: 0.9124 - val_loss: 0.3950 - val_accuracy: 0.8822\n",
            "Epoch 94/100\n",
            "390/390 [==============================] - 39s 100ms/step - loss: 0.2449 - accuracy: 0.9141 - val_loss: 0.4147 - val_accuracy: 0.8726\n",
            "Epoch 95/100\n",
            "390/390 [==============================] - 39s 100ms/step - loss: 0.2443 - accuracy: 0.9139 - val_loss: 0.4040 - val_accuracy: 0.8757\n",
            "Epoch 96/100\n",
            "390/390 [==============================] - 39s 100ms/step - loss: 0.2433 - accuracy: 0.9167 - val_loss: 0.3724 - val_accuracy: 0.8825\n",
            "Epoch 97/100\n",
            "390/390 [==============================] - 39s 101ms/step - loss: 0.2403 - accuracy: 0.9147 - val_loss: 0.4427 - val_accuracy: 0.8672\n",
            "Epoch 98/100\n",
            "390/390 [==============================] - 39s 100ms/step - loss: 0.2427 - accuracy: 0.9156 - val_loss: 0.3916 - val_accuracy: 0.8792\n",
            "Epoch 99/100\n",
            "390/390 [==============================] - 39s 101ms/step - loss: 0.2392 - accuracy: 0.9167 - val_loss: 0.3928 - val_accuracy: 0.8794\n",
            "Epoch 100/100\n",
            "390/390 [==============================] - 39s 101ms/step - loss: 0.2398 - accuracy: 0.9159 - val_loss: 0.3627 - val_accuracy: 0.8848\n"
          ],
          "name": "stdout"
        }
      ]
    },
    {
      "cell_type": "code",
      "metadata": {
        "id": "UCjc0OeJgzsz",
        "colab_type": "code",
        "colab": {
          "base_uri": "https://localhost:8080/",
          "height": 34
        },
        "outputId": "fe6a9582-49a8-4489-9aa3-ebeaced26506"
      },
      "source": [
        "print(\"accuracy on test set after Data augmentation with modified model is {} %\".format(model2.evaluate(x_test, y_cat_test,batch_size=128,verbose=0)[1]*100))"
      ],
      "execution_count": 64,
      "outputs": [
        {
          "output_type": "stream",
          "text": [
            "accuracy on test set after Data augmentation with modified model is 88.48000168800354 %\n"
          ],
          "name": "stdout"
        }
      ]
    },
    {
      "cell_type": "code",
      "metadata": {
        "id": "zzRz6de6g0IR",
        "colab_type": "code",
        "colab": {
          "base_uri": "https://localhost:8080/",
          "height": 295
        },
        "outputId": "cdcb89b8-ab8b-49bc-cf67-716a1d21fe5a"
      },
      "source": [
        "plt.plot(history2.history['accuracy'])\n",
        "plt.plot(history2.history['val_accuracy'])\n",
        "plt.title('model accuracy')\n",
        "plt.ylabel('accuracy')\n",
        "plt.xlabel('epoch')\n",
        "plt.legend(['train', 'test'], loc='upper left')\n",
        "plt.show()"
      ],
      "execution_count": 65,
      "outputs": [
        {
          "output_type": "display_data",
          "data": {
            "image/png": "[encoded data removed]",
            "text/plain": [
              "<Figure size 432x288 with 1 Axes>"
            ]
          },
          "metadata": {
            "tags": [],
            "needs_background": "light"
          }
        }
      ]
    },
    {
      "cell_type": "code",
      "metadata": {
        "id": "_potNnOOyZ6b",
        "colab_type": "code",
        "colab": {
          "base_uri": "https://localhost:8080/",
          "height": 668
        },
        "outputId": "9c408666-9301-4a47-eb00-be88907fefc5"
      },
      "source": [
        "predictions=model2.predict_classes(x_test)\n",
        "print(confusion_matrix(y_test,predictions))\n",
        "plt.figure(figsize=(12,8))\n",
        "import seaborn as sns\n",
        "sns.heatmap(confusion_matrix(y_test,predictions),annot=True,cmap='viridis')"
      ],
      "execution_count": 66,
      "outputs": [
        {
          "output_type": "stream",
          "text": [
            "[[910  15  15   2   5   1   4   7  21  20]\n",
            " [  4 950   0   0   0   0   1   1   1  43]\n",
            " [ 30   4 840  19  33  11  36  18   4   5]\n",
            " [ 10  11  18 761  42  64  41  27   8  18]\n",
            " [  2   1  19  17 904   3  28  23   0   3]\n",
            " [  2   1  30 111  37 751  20  40   1   7]\n",
            " [  5   2  16  17  10   1 940   4   2   3]\n",
            " [  8   1   9  11  22   7   6 929   1   6]\n",
            " [ 36  13   2   4   0   1   4   3 918  19]\n",
            " [ 15  33   1   0   0   0   1   0   5 945]]\n"
          ],
          "name": "stdout"
        },
        {
          "output_type": "execute_result",
          "data": {
            "text/plain": [
              "<matplotlib.axes._subplots.AxesSubplot at 0x7f71a54795c0>"
            ]
          },
          "metadata": {
            "tags": []
          },
          "execution_count": 66
        },
        {
          "output_type": "display_data",
          "data": {
            "image/png": "[encoded data removed]",
            "text/plain": [
              "<Figure size 864x576 with 2 Axes>"
            ]
          },
          "metadata": {
            "tags": [],
            "needs_background": "light"
          }
        }
      ]
    },
    {
      "cell_type": "markdown",
      "metadata": {
        "id": "laJ4BuEdo8TF",
        "colab_type": "text"
      },
      "source": [
        "## prediction on a single test image"
      ]
    },
    {
      "cell_type": "code",
      "metadata": {
        "id": "LkNDz_A2o8TF",
        "colab_type": "code",
        "colab": {
          "base_uri": "https://localhost:8080/",
          "height": 300
        },
        "outputId": "0ecbf71c-bb43-40e8-fed7-4921adbc4912"
      },
      "source": [
        "single_image=x_train[8]\n",
        "print(single_image.shape)\n",
        "plt.imshow(single_image)"
      ],
      "execution_count": 67,
      "outputs": [
        {
          "output_type": "stream",
          "text": [
            "(32, 32, 3)\n"
          ],
          "name": "stdout"
        },
        {
          "output_type": "execute_result",
          "data": {
            "text/plain": [
              "<matplotlib.image.AxesImage at 0x7f71a5a0c2e8>"
            ]
          },
          "metadata": {
            "tags": []
          },
          "execution_count": 67
        },
        {
          "output_type": "display_data",
          "data": {
            "image/png": "[encoded data removed]",
            "text/plain": [
              "<Figure size 432x288 with 1 Axes>"
            ]
          },
          "metadata": {
            "tags": [],
            "needs_background": "light"
          }
        }
      ]
    },
    {
      "cell_type": "code",
      "metadata": {
        "id": "BAAWPhHdo8TM",
        "colab_type": "code",
        "colab": {
          "base_uri": "https://localhost:8080/",
          "height": 34
        },
        "outputId": "a1aa66c2-af2f-44fa-96a3-409673f38e88"
      },
      "source": [
        "model2.predict_classes(single_image.reshape(1,32,32,3))"
      ],
      "execution_count": 68,
      "outputs": [
        {
          "output_type": "execute_result",
          "data": {
            "text/plain": [
              "array([8])"
            ]
          },
          "metadata": {
            "tags": []
          },
          "execution_count": 68
        }
      ]
    },
    {
      "cell_type": "code",
      "metadata": {
        "id": "NWFLUEMqo8TQ",
        "colab_type": "code",
        "colab": {
          "base_uri": "https://localhost:8080/",
          "height": 34
        },
        "outputId": "32ca67c8-b7c0-41c8-932b-5b6abe8c9380"
      },
      "source": [
        "y_train[8]"
      ],
      "execution_count": 69,
      "outputs": [
        {
          "output_type": "execute_result",
          "data": {
            "text/plain": [
              "array([8], dtype=uint8)"
            ]
          },
          "metadata": {
            "tags": []
          },
          "execution_count": 69
        }
      ]
    },
    {
      "cell_type": "code",
      "metadata": {
        "id": "UwqF6aO6o8Tf",
        "colab_type": "code",
        "colab": {}
      },
      "source": [
        "#looks like model is predicting quite well"
      ],
      "execution_count": 70,
      "outputs": []
    },
    {
      "cell_type": "code",
      "metadata": {
        "id": "GRSZ6RtMo8Tm",
        "colab_type": "code",
        "colab": {}
      },
      "source": [
        ""
      ],
      "execution_count": 70,
      "outputs": []
    }
  ]
}